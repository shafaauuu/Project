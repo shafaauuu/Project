{
 "cells": [
  {
   "cell_type": "code",
   "execution_count": 1,
   "metadata": {},
   "outputs": [],
   "source": [
    "import pandas, numpy, string, textblob\n",
    "import pickle\n",
    "from sklearn import model_selection, preprocessing, linear_model, naive_bayes, metrics, svm, decomposition, ensemble\n",
    "from sklearn.feature_extraction.text import TfidfVectorizer, CountVectorizer\n",
    "import xgboost\n",
    "from keras import layers, models, optimizers\n",
    "from keras.preprocessing import text, sequence\n",
    "import matplotlib.pyplot as plt"
   ]
  },
  {
   "cell_type": "markdown",
   "metadata": {},
   "source": [
    "# DATASET "
   ]
  },
  {
   "cell_type": "code",
   "execution_count": 2,
   "metadata": {},
   "outputs": [],
   "source": [
    "#Load training data\n",
    "df_train = pandas.read_excel('E:/Natural Language Processing/Project/ML/dataset/train_data.xlsx')\n",
    "#Load testing data\n",
    "df_test = pandas.read_excel('E:/Natural Language Processing/Project/ML/dataset/test_data.xlsx')"
   ]
  },
  {
   "cell_type": "code",
   "execution_count": 3,
   "metadata": {},
   "outputs": [
    {
     "name": "stdout",
     "output_type": "stream",
     "text": [
      "Index(['doc_text', 'class'], dtype='object')\n",
      "                                            doc_text       class\n",
      "0  In article <1993Apr9.172945.4578@island.COM> g...     medical\n",
      "1  In article <1993Apr5.184527.1@aurora.alaska.ed...       space\n",
      "2  Sounds liek what the FED has to do is sign a 5...       space\n",
      "3  Lib Dems' new election PR chief\\n\\nThe Lib Dem...    politics\n",
      "4  Gallipoli Campaign\\nWith World War I having ef...  historical\n",
      "<class 'pandas.core.frame.DataFrame'>\n",
      "RangeIndex: 800 entries, 0 to 799\n",
      "Data columns (total 2 columns):\n",
      " #   Column    Non-Null Count  Dtype \n",
      "---  ------    --------------  ----- \n",
      " 0   doc_text  800 non-null    object\n",
      " 1   class     800 non-null    object\n",
      "dtypes: object(2)\n",
      "memory usage: 12.6+ KB\n"
     ]
    }
   ],
   "source": [
    "# Display the column names of the DataFrame\n",
    "print(df_train.columns)\n",
    "\n",
    "# Display the structure of the DataFrame\n",
    "print(df_train.head())\n",
    "\n",
    "df_train.info()\n"
   ]
  },
  {
   "cell_type": "code",
   "execution_count": 4,
   "metadata": {},
   "outputs": [
    {
     "name": "stdout",
     "output_type": "stream",
     "text": [
      "<class 'pandas.core.frame.DataFrame'>\n",
      "RangeIndex: 800 entries, 0 to 799\n",
      "Data columns (total 2 columns):\n",
      " #   Column    Non-Null Count  Dtype \n",
      "---  ------    --------------  ----- \n",
      " 0   doc_text  800 non-null    object\n",
      " 1   class     800 non-null    object\n",
      "dtypes: object(2)\n",
      "memory usage: 12.6+ KB\n"
     ]
    },
    {
     "data": {
      "text/html": [
       "<div>\n",
       "<style scoped>\n",
       "    .dataframe tbody tr th:only-of-type {\n",
       "        vertical-align: middle;\n",
       "    }\n",
       "\n",
       "    .dataframe tbody tr th {\n",
       "        vertical-align: top;\n",
       "    }\n",
       "\n",
       "    .dataframe thead th {\n",
       "        text-align: right;\n",
       "    }\n",
       "</style>\n",
       "<table border=\"1\" class=\"dataframe\">\n",
       "  <thead>\n",
       "    <tr style=\"text-align: right;\">\n",
       "      <th></th>\n",
       "      <th>class</th>\n",
       "      <th>doc_text</th>\n",
       "    </tr>\n",
       "  </thead>\n",
       "  <tbody>\n",
       "    <tr>\n",
       "      <th>0</th>\n",
       "      <td>business</td>\n",
       "      <td>76</td>\n",
       "    </tr>\n",
       "    <tr>\n",
       "      <th>1</th>\n",
       "      <td>entertainment</td>\n",
       "      <td>83</td>\n",
       "    </tr>\n",
       "    <tr>\n",
       "      <th>2</th>\n",
       "      <td>food</td>\n",
       "      <td>80</td>\n",
       "    </tr>\n",
       "    <tr>\n",
       "      <th>3</th>\n",
       "      <td>graphics</td>\n",
       "      <td>82</td>\n",
       "    </tr>\n",
       "    <tr>\n",
       "      <th>4</th>\n",
       "      <td>historical</td>\n",
       "      <td>78</td>\n",
       "    </tr>\n",
       "    <tr>\n",
       "      <th>5</th>\n",
       "      <td>medical</td>\n",
       "      <td>78</td>\n",
       "    </tr>\n",
       "    <tr>\n",
       "      <th>6</th>\n",
       "      <td>politics</td>\n",
       "      <td>84</td>\n",
       "    </tr>\n",
       "    <tr>\n",
       "      <th>7</th>\n",
       "      <td>space</td>\n",
       "      <td>73</td>\n",
       "    </tr>\n",
       "    <tr>\n",
       "      <th>8</th>\n",
       "      <td>sport</td>\n",
       "      <td>77</td>\n",
       "    </tr>\n",
       "    <tr>\n",
       "      <th>9</th>\n",
       "      <td>technologies</td>\n",
       "      <td>89</td>\n",
       "    </tr>\n",
       "  </tbody>\n",
       "</table>\n",
       "</div>"
      ],
      "text/plain": [
       "           class  doc_text\n",
       "0       business        76\n",
       "1  entertainment        83\n",
       "2           food        80\n",
       "3       graphics        82\n",
       "4     historical        78\n",
       "5        medical        78\n",
       "6       politics        84\n",
       "7          space        73\n",
       "8          sport        77\n",
       "9   technologies        89"
      ]
     },
     "execution_count": 4,
     "metadata": {},
     "output_type": "execute_result"
    }
   ],
   "source": [
    "df_train.head()\n",
    "df_train.info()\n",
    "df_count = df_train.groupby(['class'], as_index = False).agg({'doc_text': 'count'})\n",
    "df_count.head(10)"
   ]
  },
  {
   "cell_type": "markdown",
   "metadata": {},
   "source": [
    "# TEXT PREPROCESSING "
   ]
  },
  {
   "cell_type": "markdown",
   "metadata": {},
   "source": [
    "1. Tokenization – It is about splitting strings of text into smaller pieces, or “tokens”. Paragraphs can be tokenized into sentences and sentences can be tokenized into words.\n",
    "2. Noise Removal – I have further cleaned up the text in this step. I have achieved so by removing punctuations, stop words, extra whitespaces and many other data points which was irrelevant to the NLP tasks. The NLTK library has inbuild functionalities for many such operations. A brief description of few of the steps taken is as:\n",
    "    1. Removed HTML tags: Since articles scrapped from web are likely to contain HTML tags, therefore have used Python package BeautifulSoup to remove HTML tags.\n",
    "    2. Remove stop words, accented characters and punctuation: As stop words, punctuations, extra whitespaces and accented characters do not add useful information to our text processing algorithm, therefore have removed them using modules such as Unicode and spaCy.\n",
    "    3. Treating Numbers: In our application numbers do not provide any significant knowledge and so, we have removed them. Firstly, in order to standardize the text, have converted number words to numeric form and then removed them from the textual data.\n",
    "3. Normalization – In this process, I have standardized the text into uniform sequence. I have converted the text to lowercase and using NLTK libraries performed stemming and lemmatization. Stemming refers to removing the suffixes attached to a word and lemmatization refers to conserving the root word of a word. We have used lemmatization for our textual data because that performed better with the pre-trained word embedding"
   ]
  },
  {
   "cell_type": "code",
   "execution_count": 5,
   "metadata": {},
   "outputs": [
    {
     "name": "stdout",
     "output_type": "stream",
     "text": [
      "Requirement already satisfied: beautifulsoup4 in c:\\users\\user\\appdata\\local\\programs\\python\\python311\\lib\\site-packages (4.11.2)\n",
      "Requirement already satisfied: nltk in c:\\users\\user\\appdata\\local\\programs\\python\\python311\\lib\\site-packages (3.8.1)\n",
      "Requirement already satisfied: unidecode in c:\\users\\user\\appdata\\local\\programs\\python\\python311\\lib\\site-packages (1.3.8)\n",
      "Requirement already satisfied: soupsieve>1.2 in c:\\users\\user\\appdata\\local\\programs\\python\\python311\\lib\\site-packages (from beautifulsoup4) (2.5)\n",
      "Requirement already satisfied: click in c:\\users\\user\\appdata\\local\\programs\\python\\python311\\lib\\site-packages (from nltk) (8.1.7)\n",
      "Requirement already satisfied: joblib in c:\\users\\user\\appdata\\local\\programs\\python\\python311\\lib\\site-packages (from nltk) (1.3.2)\n",
      "Requirement already satisfied: regex>=2021.8.3 in c:\\users\\user\\appdata\\local\\programs\\python\\python311\\lib\\site-packages (from nltk) (2023.10.3)\n",
      "Requirement already satisfied: tqdm in c:\\users\\user\\appdata\\local\\programs\\python\\python311\\lib\\site-packages (from nltk) (4.66.1)\n",
      "Requirement already satisfied: colorama in c:\\users\\user\\appdata\\local\\programs\\python\\python311\\lib\\site-packages (from click->nltk) (0.4.6)\n"
     ]
    },
    {
     "name": "stderr",
     "output_type": "stream",
     "text": [
      "DEPRECATION: Loading egg at c:\\users\\user\\appdata\\local\\programs\\python\\python311\\lib\\site-packages\\aniso8601-9.0.1-py3.11.egg is deprecated. pip 24.3 will enforce this behaviour change. A possible replacement is to use pip for package installation.. Discussion can be found at https://github.com/pypa/pip/issues/12330\n",
      "DEPRECATION: Loading egg at c:\\users\\user\\appdata\\local\\programs\\python\\python311\\lib\\site-packages\\distlib-0.3.8-py3.11.egg is deprecated. pip 24.3 will enforce this behaviour change. A possible replacement is to use pip for package installation.. Discussion can be found at https://github.com/pypa/pip/issues/12330\n",
      "DEPRECATION: Loading egg at c:\\users\\user\\appdata\\local\\programs\\python\\python311\\lib\\site-packages\\dnspython-2.6.1-py3.11.egg is deprecated. pip 24.3 will enforce this behaviour change. A possible replacement is to use pip for package installation.. Discussion can be found at https://github.com/pypa/pip/issues/12330\n",
      "DEPRECATION: Loading egg at c:\\users\\user\\appdata\\local\\programs\\python\\python311\\lib\\site-packages\\flask_restful-0.3.10-py3.11.egg is deprecated. pip 24.3 will enforce this behaviour change. A possible replacement is to use pip for package installation.. Discussion can be found at https://github.com/pypa/pip/issues/12330\n",
      "DEPRECATION: Loading egg at c:\\users\\user\\appdata\\local\\programs\\python\\python311\\lib\\site-packages\\jsonpickle-3.0.3-py3.11.egg is deprecated. pip 24.3 will enforce this behaviour change. A possible replacement is to use pip for package installation.. Discussion can be found at https://github.com/pypa/pip/issues/12330\n",
      "DEPRECATION: Loading egg at c:\\users\\user\\appdata\\local\\programs\\python\\python311\\lib\\site-packages\\online_book_store-1.0-py3.11.egg is deprecated. pip 24.3 will enforce this behaviour change. A possible replacement is to use pip for package installation.. Discussion can be found at https://github.com/pypa/pip/issues/12330\n",
      "DEPRECATION: Loading egg at c:\\users\\user\\appdata\\local\\programs\\python\\python311\\lib\\site-packages\\pymongo-4.6.3-py3.11-win-amd64.egg is deprecated. pip 24.3 will enforce this behaviour change. A possible replacement is to use pip for package installation.. Discussion can be found at https://github.com/pypa/pip/issues/12330\n",
      "DEPRECATION: Loading egg at c:\\users\\user\\appdata\\local\\programs\\python\\python311\\lib\\site-packages\\pymysql-1.1.0-py3.11.egg is deprecated. pip 24.3 will enforce this behaviour change. A possible replacement is to use pip for package installation.. Discussion can be found at https://github.com/pypa/pip/issues/12330\n",
      "DEPRECATION: Loading egg at c:\\users\\user\\appdata\\local\\programs\\python\\python311\\lib\\site-packages\\virtualenv-20.25.1-py3.11.egg is deprecated. pip 24.3 will enforce this behaviour change. A possible replacement is to use pip for package installation.. Discussion can be found at https://github.com/pypa/pip/issues/12330\n"
     ]
    }
   ],
   "source": [
    "!pip install beautifulsoup4 nltk unidecode\n",
    "\n",
    "import re, unidecode\n",
    "from bs4 import BeautifulSoup\n",
    "from nltk.stem.porter import PorterStemmer \n",
    "from nltk.stem import WordNetLemmatizer \n",
    "from nltk.corpus import stopwords \n",
    "from nltk.tokenize import word_tokenize\n",
    "\n",
    "# Needed only once\n",
    "# import nltk\n",
    "# nltk.download('stopwords')\n",
    "# nltk.download('punkt')\n",
    "# nltk.download('wordnet')\n",
    "\n",
    "def remove_html_tags(text):\n",
    "    soup = BeautifulSoup(text, \"html.parser\")\n",
    "    stripped_text = soup.get_text(separator=\" \")\n",
    "    return stripped_text\n",
    "def remove_accented_chars(text):\n",
    "    text = unidecode.unidecode(text)\n",
    "    return text\n",
    "def remove_numbers(text): \n",
    "    result = re.sub(r'\\d+', '', text) \n",
    "    return result\n",
    "def remove_slash_with_space(text): \n",
    "    return text.replace('\\\\', \" \")\n",
    "def remove_punctuation(text): \n",
    "    translator = str.maketrans('', '', string.punctuation) \n",
    "    return text.translate(translator) \n",
    "def text_lowercase(text): \n",
    "    return text.lower()     \n",
    "def remove_whitespace(text): \n",
    "    return  \" \".join(text.split()) \n",
    "def remove_stopwords(text): \n",
    "    stop_words = set(stopwords.words(\"english\")) \n",
    "    word_tokens = word_tokenize(text) \n",
    "    filtered_text = [word for word in word_tokens if word not in stop_words] \n",
    "    return ' '.join(filtered_text)\n",
    "def stem_words(text): \n",
    "    stemmer = PorterStemmer() \n",
    "    word_tokens = word_tokenize(text) \n",
    "    stems = [stemmer.stem(word) for word in word_tokens] \n",
    "    return ' '.join(stems)\n",
    "def lemmatize_words(text): \n",
    "    lemmatizer = WordNetLemmatizer() \n",
    "    word_tokens = word_tokenize(text) \n",
    "    # provide context i.e. part-of-speech \n",
    "    lemmas = [lemmatizer.lemmatize(word, pos ='v') for word in word_tokens] \n",
    "    return ' '.join(lemmas) "
   ]
  },
  {
   "cell_type": "code",
   "execution_count": 6,
   "metadata": {},
   "outputs": [
    {
     "name": "stderr",
     "output_type": "stream",
     "text": [
      "C:\\Users\\user\\AppData\\Local\\Temp\\ipykernel_27180\\1658587471.py:17: MarkupResemblesLocatorWarning: The input looks more like a filename than markup. You may want to open this file and pass the filehandle into Beautiful Soup.\n",
      "  soup = BeautifulSoup(text, \"html.parser\")\n"
     ]
    }
   ],
   "source": [
    "# Perform preprocessing\n",
    "def perform_preprocessing(text):\n",
    "    text = remove_html_tags(text)\n",
    "    text = remove_accented_chars(text)\n",
    "    text = remove_numbers(text)\n",
    "    text = remove_stopwords(text)\n",
    "    text = text_lowercase(text)\n",
    "    text = remove_slash_with_space(text)\n",
    "    text = remove_punctuation(text)\n",
    "    # text = stem_words(text)\n",
    "    text = lemmatize_words(text)\n",
    "    text = remove_whitespace(text)\n",
    "    return text\n",
    "\n",
    "df_train['class'] = df_train['class'].apply(perform_preprocessing)\n",
    "df_train['doc_text'] = df_train['doc_text'].apply(perform_preprocessing)\n",
    "df_test['class'] = df_test['class'].apply(perform_preprocessing)\n",
    "df_test['doc_text'] = df_test['doc_text'].apply(perform_preprocessing)"
   ]
  },
  {
   "cell_type": "markdown",
   "metadata": {},
   "source": [
    "# TRAIN TEST SPLIT "
   ]
  },
  {
   "cell_type": "code",
   "execution_count": 7,
   "metadata": {},
   "outputs": [],
   "source": [
    "X_train = df_train['doc_text']\n",
    "X_test = df_test['doc_text']\n",
    "y_train = df_train['class']\n",
    "y_test = df_test['class']"
   ]
  },
  {
   "cell_type": "markdown",
   "metadata": {},
   "source": [
    "# Feature Engineering \n",
    "Text files are actually series of words (ordered). In order to run machine learning algorithms we need to convert the text files into numerical feature vectors.\n",
    "\n",
    "We will implement the following different ideas in order to obtain relevant features from our dataset.\n",
    "\n",
    "1. CountVectors – I have used scikit-learn library’s CountVectorizer module to vectorize sentences. It generates vocabulary for all unique words of sentence. From this count of words, a feature vector is created. This essentially is the Bag of Words BOW model."
   ]
  },
  {
   "cell_type": "code",
   "execution_count": 8,
   "metadata": {},
   "outputs": [],
   "source": [
    "count_vect = CountVectorizer(analyzer='word', token_pattern=r'\\w{1,}')\n",
    "count_vect.fit(X_train)\n",
    "X_train_count =  count_vect.transform(X_train)\n",
    "X_test_count =  count_vect.transform(X_test)"
   ]
  },
  {
   "cell_type": "markdown",
   "metadata": {},
   "source": [
    "2. TF-IDF Vectors Word level - Now in order to assign weightage to the above feature vector, we have used Term Frequency – Inverse Document Frequency logic. We have given a score to the words based on its Term Frequency (#words/ #Total words) and its Inverse Frequency, i.e. presence in each of the documents. It low scores repetitive words."
   ]
  },
  {
   "cell_type": "code",
   "execution_count": 9,
   "metadata": {},
   "outputs": [],
   "source": [
    "# word level tf-idf\n",
    "tfidf_vect = TfidfVectorizer(analyzer='word', token_pattern=r'\\w{1,}', max_features=5000)\n",
    "tfidf_vect.fit(X_train)\n",
    "X_train_tfidf =  tfidf_vect.transform(X_train)\n",
    "X_test_tfidf =  tfidf_vect.transform(X_test)"
   ]
  },
  {
   "cell_type": "markdown",
   "metadata": {},
   "source": [
    "3. TF-IDF Vectors N-Gram level – In this approach for better results, have combined N (>= 2) words to form N-grams. Bigrams (N=2) are the most optimal and best convey most important information among other N-grams."
   ]
  },
  {
   "cell_type": "code",
   "execution_count": 10,
   "metadata": {},
   "outputs": [],
   "source": [
    "# ngram level tf-idf \n",
    "tfidf_vect_ngram = TfidfVectorizer(analyzer='word', token_pattern=r'\\w{1,}', ngram_range=(1,2), max_features=5000)\n",
    "tfidf_vect_ngram.fit(X_train)\n",
    "X_train_tfidf_ngram =  tfidf_vect_ngram.transform(X_train)\n",
    "X_test_tfidf_ngram =  tfidf_vect_ngram.transform(X_test)"
   ]
  },
  {
   "cell_type": "markdown",
   "metadata": {},
   "source": [
    "4. TF-IDF Vectors Character level- character level"
   ]
  },
  {
   "cell_type": "code",
   "execution_count": 11,
   "metadata": {},
   "outputs": [
    {
     "name": "stderr",
     "output_type": "stream",
     "text": [
      "c:\\Users\\user\\AppData\\Local\\Programs\\Python\\Python311\\Lib\\site-packages\\sklearn\\feature_extraction\\text.py:555: UserWarning: The parameter 'token_pattern' will not be used since 'analyzer' != 'word'\n",
      "  warnings.warn(\n"
     ]
    }
   ],
   "source": [
    "# characters level tf-idf\n",
    "tfidf_vect_ngram_chars = TfidfVectorizer(analyzer='char', token_pattern=r'\\w{1,}', ngram_range=(2,3), max_features=5000)\n",
    "tfidf_vect_ngram_chars.fit(X_train)\n",
    "X_train_tfidf_ngram_chars =  tfidf_vect_ngram_chars.transform(X_train) \n",
    "X_test_tfidf_ngram_chars =  tfidf_vect_ngram_chars.transform(X_test) "
   ]
  },
  {
   "cell_type": "markdown",
   "metadata": {},
   "source": [
    "This code segment performs label encoding and binary encoding on the target variable, which is typically done when dealing with categorical variables, such as class labels in classification tasks. "
   ]
  },
  {
   "cell_type": "code",
   "execution_count": 12,
   "metadata": {},
   "outputs": [],
   "source": [
    "# label encode the target variable \n",
    "encoder = preprocessing.LabelEncoder()\n",
    "y_train = encoder.fit_transform(y_train)\n",
    "y_test = encoder.fit_transform(y_test)\n",
    "\n",
    "encoder = preprocessing.LabelBinarizer()\n",
    "encoder.fit(y_train)\n",
    "y_train_bi = encoder.transform(y_train)\n",
    "y_test_bi = encoder.transform(y_test)"
   ]
  },
  {
   "cell_type": "markdown",
   "metadata": {},
   "source": [
    "# MODEL SELECTION AND TRAINING"
   ]
  },
  {
   "cell_type": "markdown",
   "metadata": {},
   "source": [
    "Classical models (Used as a Baseline Model)\n",
    "\n",
    "This code defines a function named train_model which is used to train a classifier model on a given training dataset, make predictions on a validation dataset, and return the accuracy score of the predictions."
   ]
  },
  {
   "cell_type": "code",
   "execution_count": 13,
   "metadata": {},
   "outputs": [],
   "source": [
    "def train_model(classifier, X_train, y_train, X_test, y_test, is_neural_net=False):\n",
    "    # fit the training dataset on the classifier\n",
    "    classifier.fit(X_train, y_train)\n",
    "    # predict the labels on validation dataset\n",
    "    predictions = classifier.predict(X_test)\n",
    "    return metrics.accuracy_score(predictions, y_test)"
   ]
  },
  {
   "cell_type": "markdown",
   "metadata": {},
   "source": [
    "Naïve Bayes Classifier – This classification technique is based on Bayes’ Theorem and assumes independence among the predictors"
   ]
  },
  {
   "cell_type": "code",
   "execution_count": 14,
   "metadata": {},
   "outputs": [
    {
     "name": "stdout",
     "output_type": "stream",
     "text": [
      "NB, Count Vectors:  0.94\n",
      "NB, WordLevel TF-IDF:  0.965\n",
      "NB, N-Gram Vectors:  0.955\n",
      "NB, CharLevel Vectors:  0.7\n"
     ]
    },
    {
     "data": {
      "text/plain": [
       "<BarContainer object of 4 artists>"
      ]
     },
     "execution_count": 14,
     "metadata": {},
     "output_type": "execute_result"
    },
    {
     "data": {
      "image/png": "[encoded data removed]",
      "text/plain": [
       "<Figure size 640x480 with 1 Axes>"
      ]
     },
     "metadata": {},
     "output_type": "display_data"
    }
   ],
   "source": [
    "# Naive Bayes on Count Vectors\n",
    "accuracy1 = train_model(naive_bayes.MultinomialNB(), X_train_count, y_train, X_test_count, y_test)\n",
    "print(\"NB, Count Vectors: \", accuracy1)\n",
    "\n",
    "# Naive Bayes on Word Level TF IDF Vectors\n",
    "accuracy2 = train_model(naive_bayes.MultinomialNB(), X_train_tfidf, y_train, X_test_tfidf, y_test)\n",
    "print(\"NB, WordLevel TF-IDF: \", accuracy2)\n",
    "\n",
    "# Naive Bayes on Ngram Level TF IDF Vectors\n",
    "accuracy3 = train_model(naive_bayes.MultinomialNB(), X_train_tfidf_ngram, y_train, X_test_tfidf_ngram, y_test)\n",
    "print(\"NB, N-Gram Vectors: \", accuracy3)\n",
    "\n",
    "# Naive Bayes on Character Level TF IDF Vectors\n",
    "accuracy4 = train_model(naive_bayes.MultinomialNB(), X_train_tfidf_ngram_chars, y_train, X_test_tfidf_ngram_chars, y_test)\n",
    "print(\"NB, CharLevel Vectors: \", accuracy4)\n",
    "\n",
    "df = {'ModelType': ['NB Count', 'NB TF-IDF','NB Ngram', 'NB TF-IDF CharLevel' ], 'Accuracy': [accuracy1,accuracy2, accuracy3,accuracy4]}\n",
    "df = pandas.DataFrame(df) #\n",
    "plt.bar(df['ModelType'], df['Accuracy'])"
   ]
  },
  {
   "cell_type": "markdown",
   "metadata": {},
   "source": [
    "Logistic Regression – Logistic Regression is a statistical method used for binary classification tasks, where the target variable (dependent variable) has two possible outcomes. The main function of Logistic Regression is to model the probability that a given input belongs to a particular class."
   ]
  },
  {
   "cell_type": "code",
   "execution_count": 15,
   "metadata": {},
   "outputs": [
    {
     "name": "stdout",
     "output_type": "stream",
     "text": [
      "LR, Count Vectors:  0.945\n",
      "LR, WordLevel TF-IDF:  0.96\n",
      "LR, N-Gram Vectors:  0.965\n",
      "LR, CharLevel Vectors:  0.93\n"
     ]
    },
    {
     "data": {
      "text/plain": [
       "<BarContainer object of 4 artists>"
      ]
     },
     "execution_count": 15,
     "metadata": {},
     "output_type": "execute_result"
    },
    {
     "data": {
      "image/png": "[encoded data removed]",
      "text/plain": [
       "<Figure size 640x480 with 1 Axes>"
      ]
     },
     "metadata": {},
     "output_type": "display_data"
    }
   ],
   "source": [
    "# Logistic Regression on Count Vectors\n",
    "accuracy1 = train_model(linear_model.LogisticRegression(), X_train_count, y_train, X_test_count, y_test)\n",
    "print(\"LR, Count Vectors: \", accuracy1)\n",
    "\n",
    "# Logistic Regression on Word Level TF IDF Vectors\n",
    "accuracy2 = train_model(linear_model.LogisticRegression(), X_train_tfidf, y_train, X_test_tfidf, y_test)\n",
    "print(\"LR, WordLevel TF-IDF: \", accuracy2)\n",
    "\n",
    "# Logistic Regression on Ngram Level TF IDF Vectors\n",
    "accuracy3 = train_model(linear_model.LogisticRegression(), X_train_tfidf_ngram, y_train, X_test_tfidf_ngram, y_test)\n",
    "print(\"LR, N-Gram Vectors: \", accuracy3)\n",
    "\n",
    "# Logistic Regression on Character Level TF IDF Vectors\n",
    "accuracy4 = train_model(linear_model.LogisticRegression(), X_train_tfidf_ngram_chars, y_train, X_test_tfidf_ngram_chars, y_test)\n",
    "print(\"LR, CharLevel Vectors: \", accuracy4)\n",
    "\n",
    "df = {'ModelType': ['LR Count', 'LR TF-IDF','LR Ngram', 'LR TF-IDF CharLevel' ], 'Accuracy': [accuracy1,accuracy2, accuracy3,accuracy4]}\n",
    "df = pandas.DataFrame(df) #\n",
    "plt.bar(df['ModelType'], df['Accuracy'])"
   ]
  },
  {
   "cell_type": "markdown",
   "metadata": {},
   "source": [
    "Bagging Model (Random Forest) - Random Forest models are an ensemble learning technique that combines multiple decision trees during training. The main aim of these models is to reduce the overfitting. They work towards reducing the model complexity.\n",
    "\n",
    "the accuracy of the model is calculated by comparing the predicted labels with the true labels."
   ]
  },
  {
   "cell_type": "code",
   "execution_count": 16,
   "metadata": {},
   "outputs": [
    {
     "name": "stdout",
     "output_type": "stream",
     "text": [
      "RF, Count Vectors:  0.94\n",
      "RF, WordLevel TF-IDF:  0.935\n"
     ]
    },
    {
     "data": {
      "text/plain": [
       "<BarContainer object of 4 artists>"
      ]
     },
     "execution_count": 16,
     "metadata": {},
     "output_type": "execute_result"
    },
    {
     "data": {
      "image/png": "[encoded data removed]",
      "text/plain": [
       "<Figure size 640x480 with 1 Axes>"
      ]
     },
     "metadata": {},
     "output_type": "display_data"
    }
   ],
   "source": [
    "# RF on Count Vectors\n",
    "accuracy1 = train_model(ensemble.RandomForestClassifier(), X_train_count, y_train, X_test_count, y_test)\n",
    "print(\"RF, Count Vectors: \", accuracy1)\n",
    "\n",
    "# RF on Word Level TF IDF Vectors\n",
    "accuracy2 = train_model(ensemble.RandomForestClassifier(), X_train_tfidf, y_train, X_test_tfidf, y_test)\n",
    "print(\"RF, WordLevel TF-IDF: \", accuracy2)\n",
    "\n",
    "plt.bar(df['ModelType'], df['Accuracy'])"
   ]
  },
  {
   "cell_type": "markdown",
   "metadata": {},
   "source": [
    "XG Boost - Boosting models are type of ensemble models and work to improve the model prediction rates. This model is meta-algorithm for reducing bias and variance in supervised learning. One of its strong points is that it converts weak learner i.e. classifiers slightly correlated to the true classification into stronger ones."
   ]
  },
  {
   "cell_type": "code",
   "execution_count": 17,
   "metadata": {},
   "outputs": [
    {
     "name": "stdout",
     "output_type": "stream",
     "text": [
      "Xgb, Count Vectors:  0.86\n",
      "Xgb, WordLevel TF-IDF:  0.93\n"
     ]
    },
    {
     "data": {
      "text/plain": [
       "<BarContainer object of 4 artists>"
      ]
     },
     "execution_count": 17,
     "metadata": {},
     "output_type": "execute_result"
    },
    {
     "data": {
      "image/png": "[encoded data removed]",
      "text/plain": [
       "<Figure size 640x480 with 1 Axes>"
      ]
     },
     "metadata": {},
     "output_type": "display_data"
    }
   ],
   "source": [
    "# Extereme Gradient Boosting (XG boost) on Count Vectors\n",
    "accuracy3 = train_model(xgboost.XGBClassifier(), X_train_count.tocsc(), y_train, X_test_count.tocsc(), y_test)\n",
    "print(\"Xgb, Count Vectors: \", accuracy3)\n",
    "\n",
    "# Extereme Gradient Boosting on Word Level TF IDF Vectors\n",
    "accurac4 = train_model(xgboost.XGBClassifier(), X_train_tfidf.tocsc(), y_train, X_test_tfidf.tocsc(), y_test)\n",
    "print(\"Xgb, WordLevel TF-IDF: \", accuracy4)\n",
    "\n",
    "# # Extereme Gradient Boosting on Character Level TF IDF Vectors\n",
    "# accuracy = train_model(xgboost.XGBClassifier(), X_train_tfidf_ngram_chars.tocsc(), y_train, X_test_tfidf_ngram_chars.tocsc(), y_test)\n",
    "# print(\"Xgb, CharLevel Vectors: \", accuracy)\n",
    "df = {'ModelType': ['RF count', 'RF TF-IDF','XG Count', 'XG TF-IDF' ], 'Accuracy': [accuracy1,accuracy2, accuracy3,accuracy4]}\n",
    "df = pandas.DataFrame(df) #\n",
    "plt.bar(df['ModelType'], df['Accuracy'])"
   ]
  },
  {
   "cell_type": "markdown",
   "metadata": {},
   "source": [
    "# Shallow Neural Network"
   ]
  },
  {
   "cell_type": "markdown",
   "metadata": {},
   "source": [
    "In order to improve the performance of the model, we used this CNN. Neural networks or feedforward neural networks. These have multiple layers of neurons arranged in fashion similar to that of human brain. The input feature vector is processed at each layer and then forwarded to the next hidden layer. The output for the next layer is created by multiplying the input with weight w and bias b. All of this summed up and then passed on to the activation function. I have rectified linear unit (ReLU) function. The algorithm initializes the weights and trains them using backpropagation. We reduced the error of the predicted output, it uses optimization methods like the gradient descent."
   ]
  },
  {
   "cell_type": "markdown",
   "metadata": {},
   "source": [
    "PARAMETERS"
   ]
  },
  {
   "cell_type": "markdown",
   "metadata": {},
   "source": [
    "In order to have minimum training loss and maximize the accuracy, I have specified epochs of 100. Also, I have setup the batch size as 100. This essentially means that I have used 100 samples in one forward and backward pass to optimize the computation rate and memory consumption. Validation split of 10 % is used, this is a split of training data to calculate loss function and should be kept apart from testing set in order to not let testing set to influence the model."
   ]
  },
  {
   "cell_type": "code",
   "execution_count": 19,
   "metadata": {},
   "outputs": [],
   "source": [
    "plt.style.use('ggplot')\n",
    "def plot_history(history):\n",
    "    acc = history.history['accuracy']\n",
    "    val_acc = history.history['val_accuracy']\n",
    "    loss = history.history['loss']\n",
    "    val_loss = history.history['val_loss']\n",
    "    x = range(1, len(acc) + 1)\n",
    "\n",
    "    plt.figure(figsize=(12, 5))\n",
    "    plt.subplot(1, 2, 1)\n",
    "    plt.plot(x, acc, 'b', label='Training acc')\n",
    "    plt.plot(x, val_acc, 'r', label='Validation acc')\n",
    "    plt.title('Training and validation accuracy')\n",
    "    plt.legend()\n",
    "    plt.subplot(1, 2, 2)\n",
    "    plt.plot(x, loss, 'b', label='Training loss')\n",
    "    plt.plot(x, val_loss, 'r', label='Validation loss')\n",
    "    plt.title('Training and validation loss')\n",
    "    plt.legend()"
   ]
  },
  {
   "cell_type": "code",
   "execution_count": 20,
   "metadata": {},
   "outputs": [
    {
     "name": "stdout",
     "output_type": "stream",
     "text": [
      "Model: \"sequential_1\"\n",
      "_________________________________________________________________\n",
      " Layer (type)                Output Shape              Param #   \n",
      "=================================================================\n",
      " dense (Dense)               (None, 512)               2560512   \n",
      "                                                                 \n",
      " activation (Activation)     (None, 512)               0         \n",
      "                                                                 \n",
      " dense_1 (Dense)             (None, 10)                5130      \n",
      "                                                                 \n",
      " activation_1 (Activation)   (None, 10)                0         \n",
      "                                                                 \n",
      "=================================================================\n",
      "Total params: 2,565,642\n",
      "Trainable params: 2,565,642\n",
      "Non-trainable params: 0\n",
      "_________________________________________________________________\n"
     ]
    },
    {
     "name": "stdout",
     "output_type": "stream",
     "text": [
      "<class 'scipy.sparse._csr.csr_matrix'>\n",
      "<class 'numpy.ndarray'>\n",
      "5000\n",
      "Epoch 1/100\n",
      "8/8 [==============================] - 2s 121ms/step - loss: 2.2352 - accuracy: 0.6069 - val_loss: 2.0873 - val_accuracy: 0.9375\n",
      "Epoch 2/100\n",
      "8/8 [==============================] - 1s 83ms/step - loss: 1.8887 - accuracy: 0.9931 - val_loss: 1.7305 - val_accuracy: 0.9750\n",
      "Epoch 3/100\n",
      "8/8 [==============================] - 1s 68ms/step - loss: 1.4417 - accuracy: 0.9958 - val_loss: 1.3340 - val_accuracy: 0.9875\n",
      "Epoch 4/100\n",
      "8/8 [==============================] - 1s 70ms/step - loss: 0.9878 - accuracy: 0.9986 - val_loss: 0.9547 - val_accuracy: 0.9875\n",
      "Epoch 5/100\n",
      "8/8 [==============================] - 1s 69ms/step - loss: 0.6082 - accuracy: 1.0000 - val_loss: 0.6627 - val_accuracy: 0.9875\n",
      "Epoch 6/100\n",
      "8/8 [==============================] - 1s 71ms/step - loss: 0.3540 - accuracy: 1.0000 - val_loss: 0.4777 - val_accuracy: 0.9750\n",
      "Epoch 7/100\n",
      "8/8 [==============================] - 1s 66ms/step - loss: 0.2065 - accuracy: 1.0000 - val_loss: 0.3681 - val_accuracy: 0.9750\n",
      "Epoch 8/100\n",
      "8/8 [==============================] - 1s 66ms/step - loss: 0.1279 - accuracy: 1.0000 - val_loss: 0.2957 - val_accuracy: 0.9750\n",
      "Epoch 9/100\n",
      "8/8 [==============================] - 1s 72ms/step - loss: 0.0845 - accuracy: 1.0000 - val_loss: 0.2488 - val_accuracy: 0.9750\n",
      "Epoch 10/100\n",
      "8/8 [==============================] - 1s 72ms/step - loss: 0.0599 - accuracy: 1.0000 - val_loss: 0.2179 - val_accuracy: 0.9750\n",
      "Epoch 11/100\n",
      "8/8 [==============================] - 1s 65ms/step - loss: 0.0453 - accuracy: 1.0000 - val_loss: 0.1979 - val_accuracy: 0.9750\n",
      "Epoch 12/100\n",
      "8/8 [==============================] - 1s 66ms/step - loss: 0.0359 - accuracy: 1.0000 - val_loss: 0.1842 - val_accuracy: 0.9750\n",
      "Epoch 13/100\n",
      "8/8 [==============================] - 1s 66ms/step - loss: 0.0294 - accuracy: 1.0000 - val_loss: 0.1739 - val_accuracy: 0.9750\n",
      "Epoch 14/100\n",
      "8/8 [==============================] - 1s 74ms/step - loss: 0.0247 - accuracy: 1.0000 - val_loss: 0.1661 - val_accuracy: 0.9750\n",
      "Epoch 15/100\n",
      "8/8 [==============================] - 1s 82ms/step - loss: 0.0211 - accuracy: 1.0000 - val_loss: 0.1588 - val_accuracy: 0.9750\n",
      "Epoch 16/100\n",
      "8/8 [==============================] - 1s 75ms/step - loss: 0.0184 - accuracy: 1.0000 - val_loss: 0.1524 - val_accuracy: 0.9750\n",
      "Epoch 17/100\n",
      "8/8 [==============================] - 1s 65ms/step - loss: 0.0162 - accuracy: 1.0000 - val_loss: 0.1468 - val_accuracy: 0.9750\n",
      "Epoch 18/100\n",
      "8/8 [==============================] - 0s 65ms/step - loss: 0.0145 - accuracy: 1.0000 - val_loss: 0.1414 - val_accuracy: 0.9750\n",
      "Epoch 19/100\n",
      "8/8 [==============================] - 1s 78ms/step - loss: 0.0130 - accuracy: 1.0000 - val_loss: 0.1372 - val_accuracy: 0.9750\n",
      "Epoch 20/100\n",
      "8/8 [==============================] - 1s 67ms/step - loss: 0.0118 - accuracy: 1.0000 - val_loss: 0.1333 - val_accuracy: 0.9750\n",
      "Epoch 21/100\n",
      "8/8 [==============================] - 1s 64ms/step - loss: 0.0108 - accuracy: 1.0000 - val_loss: 0.1300 - val_accuracy: 0.9750\n",
      "Epoch 22/100\n",
      "8/8 [==============================] - 0s 59ms/step - loss: 0.0098 - accuracy: 1.0000 - val_loss: 0.1272 - val_accuracy: 0.9750\n",
      "Epoch 23/100\n",
      "8/8 [==============================] - 1s 74ms/step - loss: 0.0090 - accuracy: 1.0000 - val_loss: 0.1246 - val_accuracy: 0.9750\n",
      "Epoch 24/100\n",
      "8/8 [==============================] - 1s 66ms/step - loss: 0.0083 - accuracy: 1.0000 - val_loss: 0.1221 - val_accuracy: 0.9750\n",
      "Epoch 25/100\n",
      "8/8 [==============================] - 0s 64ms/step - loss: 0.0077 - accuracy: 1.0000 - val_loss: 0.1198 - val_accuracy: 0.9750\n",
      "Epoch 26/100\n",
      "8/8 [==============================] - 0s 64ms/step - loss: 0.0072 - accuracy: 1.0000 - val_loss: 0.1176 - val_accuracy: 0.9750\n",
      "Epoch 27/100\n",
      "8/8 [==============================] - 0s 62ms/step - loss: 0.0067 - accuracy: 1.0000 - val_loss: 0.1154 - val_accuracy: 0.9750\n",
      "Epoch 28/100\n",
      "8/8 [==============================] - 0s 59ms/step - loss: 0.0062 - accuracy: 1.0000 - val_loss: 0.1133 - val_accuracy: 0.9750\n",
      "Epoch 29/100\n",
      "8/8 [==============================] - 1s 64ms/step - loss: 0.0059 - accuracy: 1.0000 - val_loss: 0.1112 - val_accuracy: 0.9750\n",
      "Epoch 30/100\n",
      "8/8 [==============================] - 1s 75ms/step - loss: 0.0055 - accuracy: 1.0000 - val_loss: 0.1093 - val_accuracy: 0.9750\n",
      "Epoch 31/100\n",
      "8/8 [==============================] - 0s 61ms/step - loss: 0.0052 - accuracy: 1.0000 - val_loss: 0.1077 - val_accuracy: 0.9750\n",
      "Epoch 32/100\n",
      "8/8 [==============================] - 0s 61ms/step - loss: 0.0049 - accuracy: 1.0000 - val_loss: 0.1064 - val_accuracy: 0.9750\n",
      "Epoch 33/100\n",
      "8/8 [==============================] - 0s 61ms/step - loss: 0.0046 - accuracy: 1.0000 - val_loss: 0.1049 - val_accuracy: 0.9750\n",
      "Epoch 34/100\n",
      "8/8 [==============================] - 0s 63ms/step - loss: 0.0044 - accuracy: 1.0000 - val_loss: 0.1036 - val_accuracy: 0.9750\n",
      "Epoch 35/100\n",
      "8/8 [==============================] - 1s 72ms/step - loss: 0.0042 - accuracy: 1.0000 - val_loss: 0.1025 - val_accuracy: 0.9750\n",
      "Epoch 36/100\n",
      "8/8 [==============================] - 0s 62ms/step - loss: 0.0040 - accuracy: 1.0000 - val_loss: 0.1013 - val_accuracy: 0.9750\n",
      "Epoch 37/100\n",
      "8/8 [==============================] - 0s 60ms/step - loss: 0.0038 - accuracy: 1.0000 - val_loss: 0.1001 - val_accuracy: 0.9750\n",
      "Epoch 38/100\n",
      "8/8 [==============================] - 0s 61ms/step - loss: 0.0036 - accuracy: 1.0000 - val_loss: 0.0989 - val_accuracy: 0.9750\n",
      "Epoch 39/100\n",
      "8/8 [==============================] - 0s 60ms/step - loss: 0.0034 - accuracy: 1.0000 - val_loss: 0.0977 - val_accuracy: 0.9750\n",
      "Epoch 40/100\n",
      "8/8 [==============================] - 1s 68ms/step - loss: 0.0033 - accuracy: 1.0000 - val_loss: 0.0968 - val_accuracy: 0.9750\n",
      "Epoch 41/100\n",
      "8/8 [==============================] - 1s 71ms/step - loss: 0.0031 - accuracy: 1.0000 - val_loss: 0.0958 - val_accuracy: 0.9750\n",
      "Epoch 42/100\n",
      "8/8 [==============================] - 1s 81ms/step - loss: 0.0030 - accuracy: 1.0000 - val_loss: 0.0948 - val_accuracy: 0.9750\n",
      "Epoch 43/100\n",
      "8/8 [==============================] - 1s 106ms/step - loss: 0.0029 - accuracy: 1.0000 - val_loss: 0.0939 - val_accuracy: 0.9750\n",
      "Epoch 44/100\n",
      "8/8 [==============================] - 1s 89ms/step - loss: 0.0027 - accuracy: 1.0000 - val_loss: 0.0930 - val_accuracy: 0.9750\n",
      "Epoch 45/100\n",
      "8/8 [==============================] - 1s 88ms/step - loss: 0.0026 - accuracy: 1.0000 - val_loss: 0.0921 - val_accuracy: 0.9750\n",
      "Epoch 46/100\n",
      "8/8 [==============================] - 1s 76ms/step - loss: 0.0025 - accuracy: 1.0000 - val_loss: 0.0913 - val_accuracy: 0.9750\n",
      "Epoch 47/100\n",
      "8/8 [==============================] - 1s 67ms/step - loss: 0.0024 - accuracy: 1.0000 - val_loss: 0.0906 - val_accuracy: 0.9750\n",
      "Epoch 48/100\n",
      "8/8 [==============================] - 1s 78ms/step - loss: 0.0023 - accuracy: 1.0000 - val_loss: 0.0899 - val_accuracy: 0.9750\n",
      "Epoch 49/100\n",
      "8/8 [==============================] - 1s 98ms/step - loss: 0.0023 - accuracy: 1.0000 - val_loss: 0.0891 - val_accuracy: 0.9750\n",
      "Epoch 50/100\n",
      "8/8 [==============================] - 1s 83ms/step - loss: 0.0022 - accuracy: 1.0000 - val_loss: 0.0884 - val_accuracy: 0.9750\n",
      "Epoch 51/100\n",
      "8/8 [==============================] - 1s 89ms/step - loss: 0.0021 - accuracy: 1.0000 - val_loss: 0.0877 - val_accuracy: 0.9750\n",
      "Epoch 52/100\n",
      "8/8 [==============================] - 1s 83ms/step - loss: 0.0020 - accuracy: 1.0000 - val_loss: 0.0871 - val_accuracy: 0.9750\n",
      "Epoch 53/100\n",
      "8/8 [==============================] - 1s 89ms/step - loss: 0.0020 - accuracy: 1.0000 - val_loss: 0.0864 - val_accuracy: 0.9750\n",
      "Epoch 54/100\n",
      "8/8 [==============================] - 1s 93ms/step - loss: 0.0019 - accuracy: 1.0000 - val_loss: 0.0858 - val_accuracy: 0.9750\n",
      "Epoch 55/100\n",
      "8/8 [==============================] - 1s 78ms/step - loss: 0.0018 - accuracy: 1.0000 - val_loss: 0.0853 - val_accuracy: 0.9750\n",
      "Epoch 56/100\n",
      "8/8 [==============================] - 1s 96ms/step - loss: 0.0018 - accuracy: 1.0000 - val_loss: 0.0847 - val_accuracy: 0.9750\n",
      "Epoch 57/100\n",
      "8/8 [==============================] - 1s 92ms/step - loss: 0.0017 - accuracy: 1.0000 - val_loss: 0.0841 - val_accuracy: 0.9750\n",
      "Epoch 58/100\n",
      "8/8 [==============================] - 1s 85ms/step - loss: 0.0017 - accuracy: 1.0000 - val_loss: 0.0836 - val_accuracy: 0.9750\n",
      "Epoch 59/100\n",
      "8/8 [==============================] - 1s 79ms/step - loss: 0.0016 - accuracy: 1.0000 - val_loss: 0.0831 - val_accuracy: 0.9750\n",
      "Epoch 60/100\n",
      "8/8 [==============================] - 1s 69ms/step - loss: 0.0016 - accuracy: 1.0000 - val_loss: 0.0827 - val_accuracy: 0.9750\n",
      "Epoch 61/100\n",
      "8/8 [==============================] - 1s 73ms/step - loss: 0.0015 - accuracy: 1.0000 - val_loss: 0.0821 - val_accuracy: 0.9750\n",
      "Epoch 62/100\n",
      "8/8 [==============================] - 1s 68ms/step - loss: 0.0015 - accuracy: 1.0000 - val_loss: 0.0816 - val_accuracy: 0.9750\n",
      "Epoch 63/100\n",
      "8/8 [==============================] - 0s 66ms/step - loss: 0.0014 - accuracy: 1.0000 - val_loss: 0.0811 - val_accuracy: 0.9750\n",
      "Epoch 64/100\n",
      "8/8 [==============================] - 1s 74ms/step - loss: 0.0014 - accuracy: 1.0000 - val_loss: 0.0806 - val_accuracy: 0.9750\n",
      "Epoch 65/100\n",
      "8/8 [==============================] - 1s 75ms/step - loss: 0.0014 - accuracy: 1.0000 - val_loss: 0.0802 - val_accuracy: 0.9750\n",
      "Epoch 66/100\n",
      "8/8 [==============================] - 1s 82ms/step - loss: 0.0013 - accuracy: 1.0000 - val_loss: 0.0798 - val_accuracy: 0.9750\n",
      "Epoch 67/100\n",
      "8/8 [==============================] - 1s 87ms/step - loss: 0.0013 - accuracy: 1.0000 - val_loss: 0.0794 - val_accuracy: 0.9750\n",
      "Epoch 68/100\n",
      "8/8 [==============================] - 1s 82ms/step - loss: 0.0012 - accuracy: 1.0000 - val_loss: 0.0790 - val_accuracy: 0.9750\n",
      "Epoch 69/100\n",
      "8/8 [==============================] - 1s 99ms/step - loss: 0.0012 - accuracy: 1.0000 - val_loss: 0.0786 - val_accuracy: 0.9750\n",
      "Epoch 70/100\n",
      "8/8 [==============================] - 1s 83ms/step - loss: 0.0012 - accuracy: 1.0000 - val_loss: 0.0782 - val_accuracy: 0.9750\n",
      "Epoch 71/100\n",
      "8/8 [==============================] - 0s 64ms/step - loss: 0.0012 - accuracy: 1.0000 - val_loss: 0.0778 - val_accuracy: 0.9750\n",
      "Epoch 72/100\n",
      "8/8 [==============================] - 0s 64ms/step - loss: 0.0011 - accuracy: 1.0000 - val_loss: 0.0774 - val_accuracy: 0.9750\n",
      "Epoch 73/100\n",
      "8/8 [==============================] - 1s 74ms/step - loss: 0.0011 - accuracy: 1.0000 - val_loss: 0.0770 - val_accuracy: 0.9750\n",
      "Epoch 74/100\n",
      "8/8 [==============================] - 1s 73ms/step - loss: 0.0011 - accuracy: 1.0000 - val_loss: 0.0767 - val_accuracy: 0.9750\n",
      "Epoch 75/100\n",
      "8/8 [==============================] - 1s 67ms/step - loss: 0.0010 - accuracy: 1.0000 - val_loss: 0.0764 - val_accuracy: 0.9750\n",
      "Epoch 76/100\n",
      "8/8 [==============================] - 1s 100ms/step - loss: 0.0010 - accuracy: 1.0000 - val_loss: 0.0760 - val_accuracy: 0.9750\n",
      "Epoch 77/100\n",
      "8/8 [==============================] - 1s 106ms/step - loss: 9.9059e-04 - accuracy: 1.0000 - val_loss: 0.0757 - val_accuracy: 0.9750\n",
      "Epoch 78/100\n",
      "8/8 [==============================] - 1s 75ms/step - loss: 9.6735e-04 - accuracy: 1.0000 - val_loss: 0.0754 - val_accuracy: 0.9750\n",
      "Epoch 79/100\n",
      "8/8 [==============================] - 1s 73ms/step - loss: 9.4561e-04 - accuracy: 1.0000 - val_loss: 0.0750 - val_accuracy: 0.9750\n",
      "Epoch 80/100\n",
      "8/8 [==============================] - 1s 82ms/step - loss: 9.2397e-04 - accuracy: 1.0000 - val_loss: 0.0747 - val_accuracy: 0.9750\n",
      "Epoch 81/100\n",
      "8/8 [==============================] - 1s 66ms/step - loss: 9.0355e-04 - accuracy: 1.0000 - val_loss: 0.0744 - val_accuracy: 0.9750\n",
      "Epoch 82/100\n",
      "8/8 [==============================] - 1s 75ms/step - loss: 8.8382e-04 - accuracy: 1.0000 - val_loss: 0.0741 - val_accuracy: 0.9750\n",
      "Epoch 83/100\n",
      "8/8 [==============================] - 1s 67ms/step - loss: 8.6455e-04 - accuracy: 1.0000 - val_loss: 0.0738 - val_accuracy: 0.9750\n",
      "Epoch 84/100\n",
      "8/8 [==============================] - 1s 75ms/step - loss: 8.4597e-04 - accuracy: 1.0000 - val_loss: 0.0735 - val_accuracy: 0.9750\n",
      "Epoch 85/100\n",
      "8/8 [==============================] - 1s 74ms/step - loss: 8.2796e-04 - accuracy: 1.0000 - val_loss: 0.0732 - val_accuracy: 0.9750\n",
      "Epoch 86/100\n",
      "8/8 [==============================] - 0s 62ms/step - loss: 8.1057e-04 - accuracy: 1.0000 - val_loss: 0.0730 - val_accuracy: 0.9750\n",
      "Epoch 87/100\n",
      "8/8 [==============================] - 1s 69ms/step - loss: 7.9309e-04 - accuracy: 1.0000 - val_loss: 0.0727 - val_accuracy: 0.9750\n",
      "Epoch 88/100\n",
      "8/8 [==============================] - 1s 66ms/step - loss: 7.7658e-04 - accuracy: 1.0000 - val_loss: 0.0725 - val_accuracy: 0.9750\n",
      "Epoch 89/100\n",
      "8/8 [==============================] - 1s 66ms/step - loss: 7.6061e-04 - accuracy: 1.0000 - val_loss: 0.0722 - val_accuracy: 0.9750\n",
      "Epoch 90/100\n",
      "8/8 [==============================] - 0s 62ms/step - loss: 7.4523e-04 - accuracy: 1.0000 - val_loss: 0.0720 - val_accuracy: 0.9750\n",
      "Epoch 91/100\n",
      "8/8 [==============================] - 1s 71ms/step - loss: 7.3042e-04 - accuracy: 1.0000 - val_loss: 0.0717 - val_accuracy: 0.9750\n",
      "Epoch 92/100\n",
      "8/8 [==============================] - 1s 74ms/step - loss: 7.1585e-04 - accuracy: 1.0000 - val_loss: 0.0714 - val_accuracy: 0.9750\n",
      "Epoch 93/100\n",
      "8/8 [==============================] - 1s 90ms/step - loss: 7.0155e-04 - accuracy: 1.0000 - val_loss: 0.0712 - val_accuracy: 0.9750\n",
      "Epoch 94/100\n",
      "8/8 [==============================] - 1s 94ms/step - loss: 6.8803e-04 - accuracy: 1.0000 - val_loss: 0.0709 - val_accuracy: 0.9750\n",
      "Epoch 95/100\n",
      "8/8 [==============================] - 1s 81ms/step - loss: 6.7507e-04 - accuracy: 1.0000 - val_loss: 0.0707 - val_accuracy: 0.9750\n",
      "Epoch 96/100\n",
      "8/8 [==============================] - 1s 75ms/step - loss: 6.6204e-04 - accuracy: 1.0000 - val_loss: 0.0705 - val_accuracy: 0.9750\n",
      "Epoch 97/100\n",
      "8/8 [==============================] - 0s 57ms/step - loss: 6.4952e-04 - accuracy: 1.0000 - val_loss: 0.0703 - val_accuracy: 0.9750\n",
      "Epoch 98/100\n",
      "8/8 [==============================] - 0s 59ms/step - loss: 6.3749e-04 - accuracy: 1.0000 - val_loss: 0.0700 - val_accuracy: 0.9750\n",
      "Epoch 99/100\n",
      "8/8 [==============================] - 1s 74ms/step - loss: 6.2567e-04 - accuracy: 1.0000 - val_loss: 0.0698 - val_accuracy: 0.9750\n",
      "Epoch 100/100\n",
      "8/8 [==============================] - 0s 60ms/step - loss: 6.1390e-04 - accuracy: 1.0000 - val_loss: 0.0696 - val_accuracy: 0.9750\n",
      "Training Accuracy: 0.9975\n",
      "Testing Accuracy:  0.9700\n"
     ]
    },
    {
     "data": {
      "image/png": "[encoded data removed]",
      "text/plain": [
       "<Figure size 1200x500 with 2 Axes>"
      ]
     },
     "metadata": {},
     "output_type": "display_data"
    }
   ],
   "source": [
    "vocab_size = X_train_tfidf.shape[1]\n",
    "num_labels = 4\n",
    "batch_size = 100\n",
    "# Neural network on TFIDF\n",
    "model = models.Sequential()\n",
    "model.add(layers.Dense(512, input_shape=(vocab_size,)))\n",
    "model.add(layers.Activation('relu'))\n",
    "model.add(layers.Dense(10))\n",
    "model.add(layers.Activation('softmax'))\n",
    "model.summary()\n",
    " \n",
    "model.compile(loss='categorical_crossentropy',\n",
    "              optimizer='adam',\n",
    "              metrics=['accuracy'])\n",
    " \n",
    "print(type(X_train_tfidf))\n",
    "\n",
    "print(type(y_train_bi))\n",
    "\n",
    "print(vocab_size)\n",
    "\n",
    "history = model.fit(X_train_tfidf.toarray(), y_train_bi,\n",
    "                    batch_size=batch_size,\n",
    "                    epochs=100,\n",
    "                    validation_split=0.1,\n",
    "                    verbose=1)\n",
    "\n",
    "loss, accuracy = model.evaluate(X_train_tfidf.toarray(), y_train_bi, verbose=False)\n",
    "print(\"Training Accuracy: {:.4f}\".format(accuracy))\n",
    "loss, accuracy = model.evaluate(X_test_tfidf.toarray(), y_test_bi, verbose=False)\n",
    "print(\"Testing Accuracy:  {:.4f}\".format(accuracy))\n",
    "\n",
    "plot_history(history)"
   ]
  },
  {
   "cell_type": "code",
   "execution_count": 21,
   "metadata": {},
   "outputs": [
    {
     "name": "stdout",
     "output_type": "stream",
     "text": [
      "0      in article apr islandcom green islandcom rober...\n",
      "1      in article apr auroraalaskaedu nsmca auroraala...\n",
      "2      sound liek feed sign year lease use certain pa...\n",
      "3      lib dems new election pr chief the lib dems ap...\n",
      "4      gallipoli campaign with world war i effectivel...\n",
      "                             ...                        \n",
      "795    mp attack muggers kenya an mp ps passport stea...\n",
      "796    european medal chance improve what european in...\n",
      "797    radcliffe yet answer gb call paula radcliffe g...\n",
      "798    abbas will tolerate attack palestinian leader ...\n",
      "799    iaaf await greek pair s response kostas kenter...\n",
      "Name: doc_text, Length: 800, dtype: object\n"
     ]
    }
   ],
   "source": [
    "vocab_size = 15000\n",
    "num_labels = 4\n",
    "batch_size = 100\n",
    "maxlen = 200\n",
    "\n",
    "print(X_train)\n",
    "\n",
    "from tensorflow.keras.preprocessing import text\n",
    "from tensorflow.keras.preprocessing import sequence\n",
    "\n",
    "tokenizer = text.Tokenizer(num_words=vocab_size)\n",
    "tokenizer.fit_on_texts(X_train)\n",
    "\n",
    "X_train_token = tokenizer.texts_to_sequences(X_train)\n",
    "X_test_token = tokenizer.texts_to_sequences(X_test)\n",
    "\n",
    "vocab_size = len(tokenizer.word_index) + 1  # Adding again 1 because of reserved 0 index\n",
    "\n",
    "X_train_token = sequence.pad_sequences(X_train_token, padding='post', maxlen=maxlen)\n",
    "X_test_token = sequence.pad_sequences(X_test_token, padding='post', maxlen=maxlen)\n",
    "embedding_dim = 300\n"
   ]
  },
  {
   "cell_type": "markdown",
   "metadata": {},
   "source": [
    "# Another Feature Engineering"
   ]
  },
  {
   "cell_type": "markdown",
   "metadata": {},
   "source": [
    "1. Word Embeddings (It has been found to work well with neural networks)\n",
    "\n",
    "In this I have sought to represent words in the form of vectors. It preserves contextually similar words and reduces the high dimensional word features to low dimensional feature vectors. Deep learning model namely RNN and CNN use it in their algorithm. I have used GIoVe to create word embedding of a text. The module of Word2Vec has a preprocessing module, a continuous bag of words and skip-grams. The latter two features are essentially shallow neural networks."
   ]
  },
  {
   "cell_type": "markdown",
   "metadata": {},
   "source": [
    "Using Pretrained Word Embeddings"
   ]
  },
  {
   "cell_type": "markdown",
   "metadata": {},
   "source": [
    "used Glove since it is faster, although less accurate than Word2Vec. GloVe uses co-occurrence matrix and matrix factorization to acheive dimensionality reduction"
   ]
  },
  {
   "cell_type": "code",
   "execution_count": 22,
   "metadata": {},
   "outputs": [
    {
     "name": "stdout",
     "output_type": "stream",
     "text": [
      "0.8442976156276932\n"
     ]
    }
   ],
   "source": [
    "def create_embedding_matrix(filepath, word_index, embedding_dim):\n",
    "    embedding_matrix = numpy.zeros((vocab_size, embedding_dim))\n",
    "\n",
    "    with open(filepath,'r', encoding='utf-8', newline='\\n', errors='ignore') as f:\n",
    "        for line in f:\n",
    "            word, *vector = line.split()\n",
    "            if word in word_index:\n",
    "                idx = word_index[word] \n",
    "                embedding_matrix[idx] = numpy.array(\n",
    "                    vector, dtype=numpy.float32)[:embedding_dim]\n",
    "\n",
    "    return embedding_matrix\n",
    "\n",
    "#basic new word embed\n",
    "embedding_matrix = create_embedding_matrix('E:/Natural Language Processing/Project/ML/dataset/glove.6B/glove.6B.300d.txt',tokenizer.word_index, embedding_dim)\n",
    "nonzero_elements = numpy.count_nonzero(numpy.count_nonzero(embedding_matrix, axis=1))\n",
    "print(nonzero_elements / vocab_size)"
   ]
  },
  {
   "cell_type": "code",
   "execution_count": 23,
   "metadata": {},
   "outputs": [
    {
     "name": "stdout",
     "output_type": "stream",
     "text": [
      "Model: \"sequential_2\"\n",
      "_________________________________________________________________\n",
      " Layer (type)                Output Shape              Param #   \n",
      "=================================================================\n",
      " embedding (Embedding)       (None, 200, 300)          6265800   \n",
      "                                                                 \n",
      " global_max_pooling1d (Globa  (None, 300)              0         \n",
      " lMaxPooling1D)                                                  \n",
      "                                                                 \n"
     ]
    },
    {
     "name": "stdout",
     "output_type": "stream",
     "text": [
      " dense_2 (Dense)             (None, 512)               154112    \n",
      "                                                                 \n",
      " activation_2 (Activation)   (None, 512)               0         \n",
      "                                                                 \n",
      " dense_3 (Dense)             (None, 10)                5130      \n",
      "                                                                 \n",
      " activation_3 (Activation)   (None, 10)                0         \n",
      "                                                                 \n",
      "=================================================================\n",
      "Total params: 6,425,042\n",
      "Trainable params: 6,425,042\n",
      "Non-trainable params: 0\n",
      "_________________________________________________________________\n",
      "Epoch 1/100\n",
      "8/8 [==============================] - 4s 250ms/step - loss: 2.4347 - accuracy: 0.1208 - val_loss: 2.1270 - val_accuracy: 0.3500\n",
      "Epoch 2/100\n",
      "8/8 [==============================] - 1s 149ms/step - loss: 2.1788 - accuracy: 0.2944 - val_loss: 2.3576 - val_accuracy: 0.1000\n",
      "Epoch 3/100\n",
      "8/8 [==============================] - 1s 165ms/step - loss: 2.0456 - accuracy: 0.2569 - val_loss: 1.9328 - val_accuracy: 0.2125\n",
      "Epoch 4/100\n",
      "8/8 [==============================] - 1s 183ms/step - loss: 1.9244 - accuracy: 0.3889 - val_loss: 2.0960 - val_accuracy: 0.3000\n",
      "Epoch 5/100\n",
      "8/8 [==============================] - 1s 161ms/step - loss: 1.7412 - accuracy: 0.5792 - val_loss: 1.7476 - val_accuracy: 0.5375\n",
      "Epoch 6/100\n",
      "8/8 [==============================] - 1s 153ms/step - loss: 1.6107 - accuracy: 0.6306 - val_loss: 1.7550 - val_accuracy: 0.3125\n",
      "Epoch 7/100\n",
      "8/8 [==============================] - 1s 182ms/step - loss: 1.4482 - accuracy: 0.7708 - val_loss: 1.5229 - val_accuracy: 0.6625\n",
      "Epoch 8/100\n",
      "8/8 [==============================] - 1s 164ms/step - loss: 1.3172 - accuracy: 0.8347 - val_loss: 1.4067 - val_accuracy: 0.7625\n",
      "Epoch 9/100\n",
      "8/8 [==============================] - 1s 135ms/step - loss: 1.1886 - accuracy: 0.8472 - val_loss: 1.3645 - val_accuracy: 0.6875\n",
      "Epoch 10/100\n",
      "8/8 [==============================] - 1s 138ms/step - loss: 1.0495 - accuracy: 0.8875 - val_loss: 1.2186 - val_accuracy: 0.7750\n",
      "Epoch 11/100\n",
      "8/8 [==============================] - 1s 141ms/step - loss: 0.9111 - accuracy: 0.9347 - val_loss: 1.0835 - val_accuracy: 0.8500\n",
      "Epoch 12/100\n",
      "8/8 [==============================] - 1s 175ms/step - loss: 0.8080 - accuracy: 0.9528 - val_loss: 1.0963 - val_accuracy: 0.8000\n",
      "Epoch 13/100\n",
      "8/8 [==============================] - 1s 169ms/step - loss: 0.7281 - accuracy: 0.9264 - val_loss: 0.9438 - val_accuracy: 0.8250\n",
      "Epoch 14/100\n",
      "8/8 [==============================] - 1s 150ms/step - loss: 0.6421 - accuracy: 0.9444 - val_loss: 0.9120 - val_accuracy: 0.7875\n",
      "Epoch 15/100\n",
      "8/8 [==============================] - 1s 193ms/step - loss: 0.5330 - accuracy: 0.9625 - val_loss: 0.8266 - val_accuracy: 0.8750\n",
      "Epoch 16/100\n",
      "8/8 [==============================] - 1s 182ms/step - loss: 0.4677 - accuracy: 0.9847 - val_loss: 0.7488 - val_accuracy: 0.8500\n",
      "Epoch 17/100\n",
      "8/8 [==============================] - 1s 174ms/step - loss: 0.3760 - accuracy: 0.9889 - val_loss: 0.6765 - val_accuracy: 0.8750\n",
      "Epoch 18/100\n",
      "8/8 [==============================] - 1s 162ms/step - loss: 0.3281 - accuracy: 0.9861 - val_loss: 0.6619 - val_accuracy: 0.8625\n",
      "Epoch 19/100\n",
      "8/8 [==============================] - 1s 175ms/step - loss: 0.2872 - accuracy: 0.9889 - val_loss: 0.6025 - val_accuracy: 0.8875\n",
      "Epoch 20/100\n",
      "8/8 [==============================] - 1s 175ms/step - loss: 0.2487 - accuracy: 0.9972 - val_loss: 0.5785 - val_accuracy: 0.8875\n",
      "Epoch 21/100\n",
      "8/8 [==============================] - 1s 147ms/step - loss: 0.2161 - accuracy: 0.9944 - val_loss: 0.5480 - val_accuracy: 0.8875\n",
      "Epoch 22/100\n",
      "8/8 [==============================] - 1s 149ms/step - loss: 0.1838 - accuracy: 0.9986 - val_loss: 0.5072 - val_accuracy: 0.9125\n",
      "Epoch 23/100\n",
      "8/8 [==============================] - 1s 128ms/step - loss: 0.1602 - accuracy: 0.9986 - val_loss: 0.4808 - val_accuracy: 0.9000\n",
      "Epoch 24/100\n",
      "8/8 [==============================] - 1s 121ms/step - loss: 0.1386 - accuracy: 0.9986 - val_loss: 0.4759 - val_accuracy: 0.8625\n",
      "Epoch 25/100\n",
      "8/8 [==============================] - 1s 111ms/step - loss: 0.1247 - accuracy: 1.0000 - val_loss: 0.4203 - val_accuracy: 0.9250\n",
      "Epoch 26/100\n",
      "8/8 [==============================] - 1s 126ms/step - loss: 0.1119 - accuracy: 0.9986 - val_loss: 0.4358 - val_accuracy: 0.9125\n",
      "Epoch 27/100\n",
      "8/8 [==============================] - 1s 123ms/step - loss: 0.0998 - accuracy: 0.9986 - val_loss: 0.4032 - val_accuracy: 0.9125\n",
      "Epoch 28/100\n",
      "8/8 [==============================] - 1s 129ms/step - loss: 0.0872 - accuracy: 1.0000 - val_loss: 0.3798 - val_accuracy: 0.9375\n",
      "Epoch 29/100\n",
      "8/8 [==============================] - 1s 122ms/step - loss: 0.0780 - accuracy: 1.0000 - val_loss: 0.3925 - val_accuracy: 0.9000\n",
      "Epoch 30/100\n",
      "8/8 [==============================] - 1s 138ms/step - loss: 0.0683 - accuracy: 1.0000 - val_loss: 0.3618 - val_accuracy: 0.9250\n",
      "Epoch 31/100\n",
      "8/8 [==============================] - 1s 133ms/step - loss: 0.0616 - accuracy: 1.0000 - val_loss: 0.3683 - val_accuracy: 0.9250\n",
      "Epoch 32/100\n",
      "8/8 [==============================] - 1s 126ms/step - loss: 0.0561 - accuracy: 1.0000 - val_loss: 0.3578 - val_accuracy: 0.9250\n",
      "Epoch 33/100\n",
      "8/8 [==============================] - 1s 124ms/step - loss: 0.0514 - accuracy: 1.0000 - val_loss: 0.3389 - val_accuracy: 0.9375\n",
      "Epoch 34/100\n",
      "8/8 [==============================] - 1s 123ms/step - loss: 0.0470 - accuracy: 1.0000 - val_loss: 0.3563 - val_accuracy: 0.9125\n",
      "Epoch 35/100\n",
      "8/8 [==============================] - 1s 175ms/step - loss: 0.0431 - accuracy: 1.0000 - val_loss: 0.3174 - val_accuracy: 0.9250\n",
      "Epoch 36/100\n",
      "8/8 [==============================] - 1s 166ms/step - loss: 0.0397 - accuracy: 1.0000 - val_loss: 0.3298 - val_accuracy: 0.9125\n",
      "Epoch 37/100\n",
      "8/8 [==============================] - 1s 160ms/step - loss: 0.0371 - accuracy: 1.0000 - val_loss: 0.3317 - val_accuracy: 0.9125\n",
      "Epoch 38/100\n",
      "8/8 [==============================] - 1s 150ms/step - loss: 0.0338 - accuracy: 1.0000 - val_loss: 0.3071 - val_accuracy: 0.9250\n",
      "Epoch 39/100\n",
      "8/8 [==============================] - 1s 155ms/step - loss: 0.0314 - accuracy: 1.0000 - val_loss: 0.3133 - val_accuracy: 0.9375\n",
      "Epoch 40/100\n",
      "8/8 [==============================] - 1s 138ms/step - loss: 0.0294 - accuracy: 1.0000 - val_loss: 0.3089 - val_accuracy: 0.9000\n",
      "Epoch 41/100\n",
      "8/8 [==============================] - 1s 142ms/step - loss: 0.0273 - accuracy: 1.0000 - val_loss: 0.2974 - val_accuracy: 0.9375\n",
      "Epoch 42/100\n",
      "8/8 [==============================] - 1s 148ms/step - loss: 0.0256 - accuracy: 1.0000 - val_loss: 0.3060 - val_accuracy: 0.9125\n",
      "Epoch 43/100\n",
      "8/8 [==============================] - 1s 143ms/step - loss: 0.0240 - accuracy: 1.0000 - val_loss: 0.2968 - val_accuracy: 0.9250\n",
      "Epoch 44/100\n",
      "8/8 [==============================] - 1s 145ms/step - loss: 0.0223 - accuracy: 1.0000 - val_loss: 0.2867 - val_accuracy: 0.9375\n",
      "Epoch 45/100\n",
      "8/8 [==============================] - 1s 139ms/step - loss: 0.0213 - accuracy: 1.0000 - val_loss: 0.2856 - val_accuracy: 0.9375\n",
      "Epoch 46/100\n",
      "8/8 [==============================] - 1s 144ms/step - loss: 0.0201 - accuracy: 1.0000 - val_loss: 0.2899 - val_accuracy: 0.9125\n",
      "Epoch 47/100\n",
      "8/8 [==============================] - 1s 157ms/step - loss: 0.0187 - accuracy: 1.0000 - val_loss: 0.2799 - val_accuracy: 0.9375\n",
      "Epoch 48/100\n",
      "8/8 [==============================] - 2s 235ms/step - loss: 0.0182 - accuracy: 1.0000 - val_loss: 0.2717 - val_accuracy: 0.9500\n",
      "Epoch 49/100\n",
      "8/8 [==============================] - 1s 189ms/step - loss: 0.0168 - accuracy: 1.0000 - val_loss: 0.2910 - val_accuracy: 0.8875\n",
      "Epoch 50/100\n",
      "8/8 [==============================] - 2s 213ms/step - loss: 0.0162 - accuracy: 1.0000 - val_loss: 0.2767 - val_accuracy: 0.9250\n",
      "Epoch 51/100\n",
      "8/8 [==============================] - 2s 195ms/step - loss: 0.0151 - accuracy: 1.0000 - val_loss: 0.2641 - val_accuracy: 0.9500\n",
      "Epoch 52/100\n",
      "8/8 [==============================] - 2s 212ms/step - loss: 0.0149 - accuracy: 1.0000 - val_loss: 0.2695 - val_accuracy: 0.9250\n",
      "Epoch 53/100\n",
      "8/8 [==============================] - 2s 191ms/step - loss: 0.0138 - accuracy: 1.0000 - val_loss: 0.2656 - val_accuracy: 0.9375\n",
      "Epoch 54/100\n",
      "8/8 [==============================] - 2s 202ms/step - loss: 0.0132 - accuracy: 1.0000 - val_loss: 0.2714 - val_accuracy: 0.9125\n",
      "Epoch 55/100\n",
      "8/8 [==============================] - 1s 184ms/step - loss: 0.0126 - accuracy: 1.0000 - val_loss: 0.2627 - val_accuracy: 0.9250\n",
      "Epoch 56/100\n",
      "8/8 [==============================] - 1s 171ms/step - loss: 0.0121 - accuracy: 1.0000 - val_loss: 0.2572 - val_accuracy: 0.9375\n",
      "Epoch 57/100\n",
      "8/8 [==============================] - 1s 166ms/step - loss: 0.0115 - accuracy: 1.0000 - val_loss: 0.2630 - val_accuracy: 0.9250\n",
      "Epoch 58/100\n",
      "8/8 [==============================] - 1s 186ms/step - loss: 0.0110 - accuracy: 1.0000 - val_loss: 0.2577 - val_accuracy: 0.9375\n",
      "Epoch 59/100\n",
      "8/8 [==============================] - 1s 171ms/step - loss: 0.0105 - accuracy: 1.0000 - val_loss: 0.2591 - val_accuracy: 0.9250\n",
      "Epoch 60/100\n",
      "8/8 [==============================] - 2s 202ms/step - loss: 0.0102 - accuracy: 1.0000 - val_loss: 0.2617 - val_accuracy: 0.9125\n",
      "Epoch 61/100\n",
      "8/8 [==============================] - 2s 200ms/step - loss: 0.0097 - accuracy: 1.0000 - val_loss: 0.2500 - val_accuracy: 0.9375\n",
      "Epoch 62/100\n",
      "8/8 [==============================] - 1s 186ms/step - loss: 0.0093 - accuracy: 1.0000 - val_loss: 0.2486 - val_accuracy: 0.9375\n",
      "Epoch 63/100\n",
      "8/8 [==============================] - 1s 183ms/step - loss: 0.0090 - accuracy: 1.0000 - val_loss: 0.2506 - val_accuracy: 0.9375\n",
      "Epoch 64/100\n",
      "8/8 [==============================] - 1s 177ms/step - loss: 0.0087 - accuracy: 1.0000 - val_loss: 0.2505 - val_accuracy: 0.9250\n",
      "Epoch 65/100\n",
      "8/8 [==============================] - 2s 200ms/step - loss: 0.0084 - accuracy: 1.0000 - val_loss: 0.2461 - val_accuracy: 0.9250\n",
      "Epoch 66/100\n",
      "8/8 [==============================] - 1s 174ms/step - loss: 0.0080 - accuracy: 1.0000 - val_loss: 0.2488 - val_accuracy: 0.9125\n",
      "Epoch 67/100\n",
      "8/8 [==============================] - 1s 153ms/step - loss: 0.0078 - accuracy: 1.0000 - val_loss: 0.2465 - val_accuracy: 0.9125\n",
      "Epoch 68/100\n",
      "8/8 [==============================] - 2s 192ms/step - loss: 0.0075 - accuracy: 1.0000 - val_loss: 0.2372 - val_accuracy: 0.9500\n",
      "Epoch 69/100\n",
      "8/8 [==============================] - 1s 181ms/step - loss: 0.0072 - accuracy: 1.0000 - val_loss: 0.2421 - val_accuracy: 0.9250\n",
      "Epoch 70/100\n",
      "8/8 [==============================] - 2s 192ms/step - loss: 0.0070 - accuracy: 1.0000 - val_loss: 0.2457 - val_accuracy: 0.9375\n",
      "Epoch 71/100\n",
      "8/8 [==============================] - 1s 184ms/step - loss: 0.0067 - accuracy: 1.0000 - val_loss: 0.2421 - val_accuracy: 0.9375\n",
      "Epoch 72/100\n",
      "8/8 [==============================] - 1s 181ms/step - loss: 0.0065 - accuracy: 1.0000 - val_loss: 0.2416 - val_accuracy: 0.9250\n",
      "Epoch 73/100\n",
      "8/8 [==============================] - 1s 162ms/step - loss: 0.0063 - accuracy: 1.0000 - val_loss: 0.2382 - val_accuracy: 0.9375\n",
      "Epoch 74/100\n",
      "8/8 [==============================] - 1s 189ms/step - loss: 0.0061 - accuracy: 1.0000 - val_loss: 0.2422 - val_accuracy: 0.9375\n",
      "Epoch 75/100\n",
      "8/8 [==============================] - 1s 172ms/step - loss: 0.0059 - accuracy: 1.0000 - val_loss: 0.2357 - val_accuracy: 0.9375\n",
      "Epoch 76/100\n",
      "8/8 [==============================] - 2s 197ms/step - loss: 0.0057 - accuracy: 1.0000 - val_loss: 0.2341 - val_accuracy: 0.9375\n",
      "Epoch 77/100\n",
      "8/8 [==============================] - 1s 173ms/step - loss: 0.0056 - accuracy: 1.0000 - val_loss: 0.2360 - val_accuracy: 0.9500\n",
      "Epoch 78/100\n",
      "8/8 [==============================] - 2s 205ms/step - loss: 0.0054 - accuracy: 1.0000 - val_loss: 0.2352 - val_accuracy: 0.9375\n",
      "Epoch 79/100\n",
      "8/8 [==============================] - 1s 187ms/step - loss: 0.0052 - accuracy: 1.0000 - val_loss: 0.2352 - val_accuracy: 0.9375\n",
      "Epoch 80/100\n",
      "8/8 [==============================] - 1s 175ms/step - loss: 0.0051 - accuracy: 1.0000 - val_loss: 0.2332 - val_accuracy: 0.9250\n",
      "Epoch 81/100\n",
      "8/8 [==============================] - 2s 203ms/step - loss: 0.0050 - accuracy: 1.0000 - val_loss: 0.2328 - val_accuracy: 0.9250\n",
      "Epoch 82/100\n",
      "8/8 [==============================] - 1s 164ms/step - loss: 0.0048 - accuracy: 1.0000 - val_loss: 0.2351 - val_accuracy: 0.9250\n",
      "Epoch 83/100\n",
      "8/8 [==============================] - 1s 179ms/step - loss: 0.0047 - accuracy: 1.0000 - val_loss: 0.2314 - val_accuracy: 0.9250\n",
      "Epoch 84/100\n",
      "8/8 [==============================] - 1s 167ms/step - loss: 0.0045 - accuracy: 1.0000 - val_loss: 0.2276 - val_accuracy: 0.9500\n",
      "Epoch 85/100\n",
      "8/8 [==============================] - 1s 194ms/step - loss: 0.0044 - accuracy: 1.0000 - val_loss: 0.2238 - val_accuracy: 0.9500\n",
      "Epoch 86/100\n",
      "8/8 [==============================] - 2s 218ms/step - loss: 0.0043 - accuracy: 1.0000 - val_loss: 0.2250 - val_accuracy: 0.9500\n",
      "Epoch 87/100\n",
      "8/8 [==============================] - 1s 172ms/step - loss: 0.0042 - accuracy: 1.0000 - val_loss: 0.2259 - val_accuracy: 0.9250\n",
      "Epoch 88/100\n",
      "8/8 [==============================] - 1s 177ms/step - loss: 0.0040 - accuracy: 1.0000 - val_loss: 0.2281 - val_accuracy: 0.9375\n",
      "Epoch 89/100\n",
      "8/8 [==============================] - 1s 163ms/step - loss: 0.0039 - accuracy: 1.0000 - val_loss: 0.2287 - val_accuracy: 0.9375\n",
      "Epoch 90/100\n",
      "8/8 [==============================] - 1s 169ms/step - loss: 0.0038 - accuracy: 1.0000 - val_loss: 0.2243 - val_accuracy: 0.9375\n",
      "Epoch 91/100\n",
      "8/8 [==============================] - 1s 153ms/step - loss: 0.0038 - accuracy: 1.0000 - val_loss: 0.2255 - val_accuracy: 0.9375\n",
      "Epoch 92/100\n",
      "8/8 [==============================] - 1s 154ms/step - loss: 0.0037 - accuracy: 1.0000 - val_loss: 0.2263 - val_accuracy: 0.9375\n",
      "Epoch 93/100\n",
      "8/8 [==============================] - 1s 182ms/step - loss: 0.0035 - accuracy: 1.0000 - val_loss: 0.2239 - val_accuracy: 0.9375\n",
      "Epoch 94/100\n",
      "8/8 [==============================] - 1s 185ms/step - loss: 0.0034 - accuracy: 1.0000 - val_loss: 0.2224 - val_accuracy: 0.9375\n",
      "Epoch 95/100\n",
      "8/8 [==============================] - 2s 197ms/step - loss: 0.0034 - accuracy: 1.0000 - val_loss: 0.2211 - val_accuracy: 0.9375\n",
      "Epoch 96/100\n",
      "8/8 [==============================] - 2s 218ms/step - loss: 0.0033 - accuracy: 1.0000 - val_loss: 0.2207 - val_accuracy: 0.9375\n",
      "Epoch 97/100\n",
      "8/8 [==============================] - 1s 176ms/step - loss: 0.0032 - accuracy: 1.0000 - val_loss: 0.2189 - val_accuracy: 0.9375\n",
      "Epoch 98/100\n",
      "8/8 [==============================] - 1s 175ms/step - loss: 0.0031 - accuracy: 1.0000 - val_loss: 0.2184 - val_accuracy: 0.9375\n",
      "Epoch 99/100\n",
      "8/8 [==============================] - 1s 167ms/step - loss: 0.0031 - accuracy: 1.0000 - val_loss: 0.2209 - val_accuracy: 0.9250\n",
      "Epoch 100/100\n",
      "8/8 [==============================] - 1s 169ms/step - loss: 0.0030 - accuracy: 1.0000 - val_loss: 0.2163 - val_accuracy: 0.9250\n",
      "Training Accuracy: 0.9925\n",
      "Testing Accuracy:  0.9650\n"
     ]
    }
   ],
   "source": [
    "# Shallow neural network basic with word embedding matrix\n",
    "embedding_dim = 300\n",
    "\n",
    "model = models.Sequential()\n",
    "model.add(layers.Embedding(input_dim=vocab_size, \n",
    "                           output_dim=embedding_dim,\n",
    "                           weights=[embedding_matrix],\n",
    "                           input_length=maxlen,\n",
    "                           trainable=True))\n",
    "model.add(layers.GlobalMaxPool1D())\n",
    "model.add(layers.Dense(512, input_shape=(vocab_size,)))\n",
    "model.add(layers.Activation('relu'))\n",
    "model.add(layers.Dense(10))\n",
    "model.add(layers.Activation('softmax'))\n",
    "model.summary()\n",
    "\n",
    "model.compile(loss='categorical_crossentropy',\n",
    "              optimizer='adam',\n",
    "              metrics=['accuracy'])\n",
    " \n",
    "history = model.fit(X_train_token, y_train_bi,\n",
    "                    batch_size=batch_size,\n",
    "                    epochs=100,\n",
    "                    validation_split=0.1,\n",
    "                    verbose=1)\n",
    "\n",
    "loss, accuracy = model.evaluate(X_train_token, y_train_bi, verbose=False)\n",
    "print(\"Training Accuracy: {:.4f}\".format(accuracy))\n",
    "loss, accuracy = model.evaluate(X_test_token, y_test_bi, verbose=False)\n",
    "print(\"Testing Accuracy:  {:.4f}\".format(accuracy))"
   ]
  },
  {
   "cell_type": "code",
   "execution_count": 24,
   "metadata": {},
   "outputs": [
    {
     "data": {
      "image/png": "[encoded data removed]",
      "text/plain": [
       "<Figure size 1200x500 with 2 Axes>"
      ]
     },
     "metadata": {},
     "output_type": "display_data"
    }
   ],
   "source": [
    "plot_history(history)"
   ]
  },
  {
   "cell_type": "markdown",
   "metadata": {},
   "source": [
    "# Deep Neural Network"
   ]
  },
  {
   "cell_type": "markdown",
   "metadata": {},
   "source": [
    "Using tensorflow 2.12 and Keras 2.12.  The embedding layer takes the precalculated integers, uses the embedding matrix of the pretrained vectors to assigns the dense vectors. This result is fed into flatten layer for sequential input. From there it is fed to dense layer. I have also used GlobalMaxPooling ID after the embedding. Thisreduces the sample size by choosing maximum value of all the features."
   ]
  },
  {
   "cell_type": "markdown",
   "metadata": {},
   "source": [
    "CNN (CovNets)"
   ]
  },
  {
   "cell_type": "markdown",
   "metadata": {},
   "source": [
    "It is a specialized deep neural network to identify peculiar trends which is used to discern the most important information in a sentence. The hidden layers called convolutional layer starts with a sample of input features of the dimensions of kernel filters.  It has two uses – it provides fixed-length output and reduces output dimensionality of most important features. Such layers are stacked multiple times to improve mining of abstract information."
   ]
  },
  {
   "cell_type": "code",
   "execution_count": 25,
   "metadata": {},
   "outputs": [
    {
     "name": "stdout",
     "output_type": "stream",
     "text": [
      "Model: \"sequential_3\"\n",
      "_________________________________________________________________\n",
      " Layer (type)                Output Shape              Param #   \n",
      "=================================================================\n",
      " embedding_1 (Embedding)     (None, 200, 300)          6265800   \n",
      "                                                                 \n",
      " spatial_dropout1d (SpatialD  (None, 200, 300)         0         \n",
      " ropout1D)                                                       \n",
      "                                                                 \n",
      " conv1d (Conv1D)             (None, 196, 128)          192128    \n",
      "                                                                 \n",
      " global_max_pooling1d_1 (Glo  (None, 128)              0         \n",
      " balMaxPooling1D)                                                \n",
      "                                                                 \n",
      " dense_4 (Dense)             (None, 256)               33024     \n",
      "                                                                 \n",
      " activation_4 (Activation)   (None, 256)               0         \n",
      "                                                                 \n",
      " dropout (Dropout)           (None, 256)               0         \n",
      "                                                                 \n",
      " dense_5 (Dense)             (None, 10)                2570      \n",
      "                                                                 \n",
      " activation_5 (Activation)   (None, 10)                0         \n",
      "                                                                 \n",
      "=================================================================\n",
      "Total params: 6,493,522\n",
      "Trainable params: 6,493,522\n",
      "Non-trainable params: 0\n",
      "_________________________________________________________________\n",
      "Epoch 1/100\n",
      "24/24 [==============================] - 7s 228ms/step - loss: 2.1001 - accuracy: 0.3194 - val_loss: 1.4573 - val_accuracy: 0.7125\n",
      "Epoch 2/100\n",
      "24/24 [==============================] - 5s 197ms/step - loss: 1.0514 - accuracy: 0.7556 - val_loss: 0.6546 - val_accuracy: 0.9125\n",
      "Epoch 3/100\n",
      "24/24 [==============================] - 5s 192ms/step - loss: 0.4365 - accuracy: 0.9333 - val_loss: 0.3397 - val_accuracy: 0.9750\n",
      "Epoch 4/100\n",
      "24/24 [==============================] - 5s 211ms/step - loss: 0.2049 - accuracy: 0.9667 - val_loss: 0.2104 - val_accuracy: 0.9750\n",
      "Epoch 5/100\n",
      "24/24 [==============================] - 5s 205ms/step - loss: 0.1039 - accuracy: 0.9931 - val_loss: 0.1684 - val_accuracy: 0.9750\n",
      "Epoch 6/100\n",
      "24/24 [==============================] - 5s 207ms/step - loss: 0.0532 - accuracy: 0.9958 - val_loss: 0.1544 - val_accuracy: 0.9750\n",
      "Epoch 7/100\n",
      "24/24 [==============================] - 5s 207ms/step - loss: 0.0345 - accuracy: 0.9972 - val_loss: 0.1260 - val_accuracy: 0.9750\n",
      "Epoch 8/100\n",
      "24/24 [==============================] - 7s 290ms/step - loss: 0.0257 - accuracy: 1.0000 - val_loss: 0.1435 - val_accuracy: 0.9625\n",
      "Epoch 9/100\n",
      "24/24 [==============================] - 7s 298ms/step - loss: 0.0194 - accuracy: 1.0000 - val_loss: 0.1253 - val_accuracy: 0.9750\n",
      "Epoch 10/100\n",
      "24/24 [==============================] - 6s 264ms/step - loss: 0.0146 - accuracy: 0.9986 - val_loss: 0.1307 - val_accuracy: 0.9750\n",
      "Epoch 11/100\n",
      "24/24 [==============================] - 5s 214ms/step - loss: 0.0106 - accuracy: 1.0000 - val_loss: 0.1210 - val_accuracy: 0.9750\n",
      "Epoch 12/100\n",
      "24/24 [==============================] - 5s 204ms/step - loss: 0.0086 - accuracy: 1.0000 - val_loss: 0.1129 - val_accuracy: 0.9750\n",
      "Epoch 13/100\n",
      "24/24 [==============================] - 6s 253ms/step - loss: 0.0075 - accuracy: 1.0000 - val_loss: 0.1170 - val_accuracy: 0.9875\n",
      "Epoch 14/100\n",
      "24/24 [==============================] - 5s 229ms/step - loss: 0.0046 - accuracy: 1.0000 - val_loss: 0.1094 - val_accuracy: 0.9750\n",
      "Epoch 15/100\n",
      "24/24 [==============================] - 5s 224ms/step - loss: 0.0047 - accuracy: 1.0000 - val_loss: 0.1102 - val_accuracy: 0.9875\n",
      "Epoch 16/100\n",
      "24/24 [==============================] - 5s 191ms/step - loss: 0.0049 - accuracy: 1.0000 - val_loss: 0.1109 - val_accuracy: 0.9750\n",
      "Epoch 17/100\n",
      "24/24 [==============================] - 5s 192ms/step - loss: 0.0034 - accuracy: 1.0000 - val_loss: 0.1091 - val_accuracy: 0.9750\n",
      "Epoch 18/100\n",
      "24/24 [==============================] - 5s 200ms/step - loss: 0.0037 - accuracy: 1.0000 - val_loss: 0.1086 - val_accuracy: 0.9875\n",
      "Epoch 19/100\n",
      "24/24 [==============================] - 5s 203ms/step - loss: 0.0024 - accuracy: 1.0000 - val_loss: 0.1056 - val_accuracy: 0.9750\n",
      "Epoch 20/100\n",
      "24/24 [==============================] - 5s 195ms/step - loss: 0.0021 - accuracy: 1.0000 - val_loss: 0.1055 - val_accuracy: 0.9875\n",
      "Epoch 21/100\n",
      "24/24 [==============================] - 5s 190ms/step - loss: 0.0022 - accuracy: 1.0000 - val_loss: 0.1012 - val_accuracy: 0.9875\n",
      "Epoch 22/100\n",
      "24/24 [==============================] - 5s 190ms/step - loss: 0.0025 - accuracy: 1.0000 - val_loss: 0.1021 - val_accuracy: 0.9750\n",
      "Epoch 23/100\n",
      "24/24 [==============================] - 5s 199ms/step - loss: 0.0021 - accuracy: 1.0000 - val_loss: 0.1003 - val_accuracy: 0.9875\n",
      "Epoch 24/100\n",
      "24/24 [==============================] - 5s 214ms/step - loss: 0.0016 - accuracy: 1.0000 - val_loss: 0.1021 - val_accuracy: 0.9750\n",
      "Epoch 25/100\n",
      "24/24 [==============================] - 5s 226ms/step - loss: 0.0013 - accuracy: 1.0000 - val_loss: 0.1003 - val_accuracy: 0.9750\n",
      "Epoch 26/100\n",
      "24/24 [==============================] - 6s 250ms/step - loss: 0.0014 - accuracy: 1.0000 - val_loss: 0.0989 - val_accuracy: 0.9750\n",
      "Epoch 27/100\n",
      "24/24 [==============================] - 5s 225ms/step - loss: 0.0015 - accuracy: 1.0000 - val_loss: 0.0981 - val_accuracy: 0.9750\n",
      "Epoch 28/100\n",
      "24/24 [==============================] - 6s 233ms/step - loss: 0.0014 - accuracy: 1.0000 - val_loss: 0.1047 - val_accuracy: 0.9750\n",
      "Epoch 29/100\n",
      "24/24 [==============================] - 5s 208ms/step - loss: 0.0015 - accuracy: 1.0000 - val_loss: 0.1005 - val_accuracy: 0.9875\n",
      "Epoch 30/100\n",
      "24/24 [==============================] - 5s 224ms/step - loss: 0.0011 - accuracy: 1.0000 - val_loss: 0.1066 - val_accuracy: 0.9875\n",
      "Epoch 31/100\n",
      "24/24 [==============================] - 5s 205ms/step - loss: 0.0011 - accuracy: 1.0000 - val_loss: 0.0996 - val_accuracy: 0.9875\n",
      "Epoch 32/100\n",
      "24/24 [==============================] - 5s 193ms/step - loss: 8.8966e-04 - accuracy: 1.0000 - val_loss: 0.1009 - val_accuracy: 0.9750\n",
      "Epoch 33/100\n",
      "24/24 [==============================] - 5s 228ms/step - loss: 0.0011 - accuracy: 1.0000 - val_loss: 0.0966 - val_accuracy: 0.9750\n",
      "Epoch 34/100\n",
      "24/24 [==============================] - 5s 214ms/step - loss: 7.3481e-04 - accuracy: 1.0000 - val_loss: 0.0958 - val_accuracy: 0.9750\n",
      "Epoch 35/100\n",
      "24/24 [==============================] - 5s 228ms/step - loss: 7.5372e-04 - accuracy: 1.0000 - val_loss: 0.0973 - val_accuracy: 0.9750\n",
      "Epoch 36/100\n",
      "24/24 [==============================] - 5s 211ms/step - loss: 6.3294e-04 - accuracy: 1.0000 - val_loss: 0.0990 - val_accuracy: 0.9750\n",
      "Epoch 37/100\n",
      "24/24 [==============================] - 5s 212ms/step - loss: 5.8116e-04 - accuracy: 1.0000 - val_loss: 0.0991 - val_accuracy: 0.9750\n",
      "Epoch 38/100\n",
      "24/24 [==============================] - 5s 228ms/step - loss: 6.4495e-04 - accuracy: 1.0000 - val_loss: 0.0974 - val_accuracy: 0.9750\n",
      "Epoch 39/100\n",
      "24/24 [==============================] - 5s 217ms/step - loss: 7.3415e-04 - accuracy: 1.0000 - val_loss: 0.0971 - val_accuracy: 0.9875\n",
      "Epoch 40/100\n",
      "24/24 [==============================] - 5s 222ms/step - loss: 5.6020e-04 - accuracy: 1.0000 - val_loss: 0.1005 - val_accuracy: 0.9875\n",
      "Epoch 41/100\n",
      "24/24 [==============================] - 6s 230ms/step - loss: 5.3443e-04 - accuracy: 1.0000 - val_loss: 0.0982 - val_accuracy: 0.9875\n",
      "Epoch 42/100\n",
      "24/24 [==============================] - 5s 197ms/step - loss: 5.3704e-04 - accuracy: 1.0000 - val_loss: 0.0999 - val_accuracy: 0.9875\n",
      "Epoch 43/100\n",
      "24/24 [==============================] - 5s 200ms/step - loss: 5.2612e-04 - accuracy: 1.0000 - val_loss: 0.0960 - val_accuracy: 0.9750\n",
      "Epoch 44/100\n",
      "24/24 [==============================] - 5s 224ms/step - loss: 4.8872e-04 - accuracy: 1.0000 - val_loss: 0.0961 - val_accuracy: 0.9750\n",
      "Epoch 45/100\n",
      "24/24 [==============================] - 5s 220ms/step - loss: 4.5478e-04 - accuracy: 1.0000 - val_loss: 0.0990 - val_accuracy: 0.9875\n",
      "Epoch 46/100\n",
      "24/24 [==============================] - 6s 231ms/step - loss: 9.7081e-04 - accuracy: 1.0000 - val_loss: 0.0944 - val_accuracy: 0.9750\n",
      "Epoch 47/100\n",
      "24/24 [==============================] - 6s 242ms/step - loss: 5.9985e-04 - accuracy: 1.0000 - val_loss: 0.0995 - val_accuracy: 0.9750\n",
      "Epoch 48/100\n",
      "24/24 [==============================] - 6s 244ms/step - loss: 5.8323e-04 - accuracy: 1.0000 - val_loss: 0.1031 - val_accuracy: 0.9750\n",
      "Epoch 49/100\n",
      "24/24 [==============================] - 6s 250ms/step - loss: 4.3960e-04 - accuracy: 1.0000 - val_loss: 0.1025 - val_accuracy: 0.9750\n",
      "Epoch 50/100\n",
      "24/24 [==============================] - 5s 220ms/step - loss: 4.7436e-04 - accuracy: 1.0000 - val_loss: 0.1020 - val_accuracy: 0.9750\n",
      "Epoch 51/100\n",
      "24/24 [==============================] - 5s 200ms/step - loss: 3.8513e-04 - accuracy: 1.0000 - val_loss: 0.1070 - val_accuracy: 0.9750\n",
      "Epoch 52/100\n",
      "24/24 [==============================] - 4s 186ms/step - loss: 3.5949e-04 - accuracy: 1.0000 - val_loss: 0.1014 - val_accuracy: 0.9750\n",
      "Epoch 53/100\n",
      "24/24 [==============================] - 4s 184ms/step - loss: 4.1434e-04 - accuracy: 1.0000 - val_loss: 0.0991 - val_accuracy: 0.9750\n",
      "Epoch 54/100\n",
      "24/24 [==============================] - 4s 184ms/step - loss: 3.4880e-04 - accuracy: 1.0000 - val_loss: 0.0995 - val_accuracy: 0.9750\n",
      "Epoch 55/100\n",
      "24/24 [==============================] - 4s 185ms/step - loss: 3.4982e-04 - accuracy: 1.0000 - val_loss: 0.0995 - val_accuracy: 0.9750\n",
      "Epoch 56/100\n",
      "24/24 [==============================] - 5s 208ms/step - loss: 0.0021 - accuracy: 1.0000 - val_loss: 0.1088 - val_accuracy: 0.9750\n",
      "Epoch 57/100\n",
      "24/24 [==============================] - 6s 256ms/step - loss: 6.3761e-04 - accuracy: 1.0000 - val_loss: 0.1103 - val_accuracy: 0.9750\n",
      "Epoch 58/100\n",
      "24/24 [==============================] - 5s 198ms/step - loss: 4.3602e-04 - accuracy: 1.0000 - val_loss: 0.1059 - val_accuracy: 0.9750\n",
      "Epoch 59/100\n",
      "24/24 [==============================] - 5s 211ms/step - loss: 3.9238e-04 - accuracy: 1.0000 - val_loss: 0.1015 - val_accuracy: 0.9750\n",
      "Epoch 60/100\n",
      "24/24 [==============================] - 5s 207ms/step - loss: 3.1619e-04 - accuracy: 1.0000 - val_loss: 0.1001 - val_accuracy: 0.9750\n",
      "Epoch 61/100\n",
      "24/24 [==============================] - 5s 201ms/step - loss: 3.0357e-04 - accuracy: 1.0000 - val_loss: 0.1001 - val_accuracy: 0.9750\n",
      "Epoch 62/100\n",
      "24/24 [==============================] - 5s 197ms/step - loss: 2.4606e-04 - accuracy: 1.0000 - val_loss: 0.1003 - val_accuracy: 0.9750\n",
      "Epoch 63/100\n",
      "24/24 [==============================] - 5s 212ms/step - loss: 2.5437e-04 - accuracy: 1.0000 - val_loss: 0.1001 - val_accuracy: 0.9750\n",
      "Epoch 64/100\n",
      "24/24 [==============================] - 5s 203ms/step - loss: 1.4982e-04 - accuracy: 1.0000 - val_loss: 0.1005 - val_accuracy: 0.9750\n",
      "Epoch 65/100\n",
      "24/24 [==============================] - 5s 194ms/step - loss: 2.1905e-04 - accuracy: 1.0000 - val_loss: 0.1003 - val_accuracy: 0.9750\n",
      "Epoch 66/100\n",
      "24/24 [==============================] - 5s 210ms/step - loss: 3.5653e-04 - accuracy: 1.0000 - val_loss: 0.1005 - val_accuracy: 0.9750\n",
      "Epoch 67/100\n",
      "24/24 [==============================] - 5s 206ms/step - loss: 2.5849e-04 - accuracy: 1.0000 - val_loss: 0.0996 - val_accuracy: 0.9750\n",
      "Epoch 68/100\n",
      "24/24 [==============================] - 5s 205ms/step - loss: 2.0957e-04 - accuracy: 1.0000 - val_loss: 0.0992 - val_accuracy: 0.9750\n",
      "Epoch 69/100\n",
      "24/24 [==============================] - 5s 199ms/step - loss: 1.6589e-04 - accuracy: 1.0000 - val_loss: 0.0994 - val_accuracy: 0.9750\n",
      "Epoch 70/100\n",
      "24/24 [==============================] - 5s 210ms/step - loss: 2.0099e-04 - accuracy: 1.0000 - val_loss: 0.0989 - val_accuracy: 0.9750\n",
      "Epoch 71/100\n",
      "24/24 [==============================] - 5s 204ms/step - loss: 1.8648e-04 - accuracy: 1.0000 - val_loss: 0.0994 - val_accuracy: 0.9750\n",
      "Epoch 72/100\n",
      "24/24 [==============================] - 5s 199ms/step - loss: 2.9537e-04 - accuracy: 1.0000 - val_loss: 0.1008 - val_accuracy: 0.9750\n",
      "Epoch 73/100\n",
      "24/24 [==============================] - 5s 208ms/step - loss: 1.4460e-04 - accuracy: 1.0000 - val_loss: 0.1014 - val_accuracy: 0.9750\n",
      "Epoch 74/100\n",
      "24/24 [==============================] - 5s 194ms/step - loss: 1.8913e-04 - accuracy: 1.0000 - val_loss: 0.1033 - val_accuracy: 0.9750\n",
      "Epoch 75/100\n",
      "24/24 [==============================] - 5s 204ms/step - loss: 1.6348e-04 - accuracy: 1.0000 - val_loss: 0.1027 - val_accuracy: 0.9750\n",
      "Epoch 76/100\n",
      "24/24 [==============================] - 5s 218ms/step - loss: 2.4148e-04 - accuracy: 1.0000 - val_loss: 0.1016 - val_accuracy: 0.9750\n",
      "Epoch 77/100\n",
      "24/24 [==============================] - 5s 196ms/step - loss: 1.2855e-04 - accuracy: 1.0000 - val_loss: 0.0999 - val_accuracy: 0.9750\n",
      "Epoch 78/100\n",
      "24/24 [==============================] - 5s 201ms/step - loss: 1.2707e-04 - accuracy: 1.0000 - val_loss: 0.1000 - val_accuracy: 0.9750\n",
      "Epoch 79/100\n",
      "24/24 [==============================] - 5s 219ms/step - loss: 1.4613e-04 - accuracy: 1.0000 - val_loss: 0.0993 - val_accuracy: 0.9750\n",
      "Epoch 80/100\n",
      "24/24 [==============================] - 5s 203ms/step - loss: 1.3697e-04 - accuracy: 1.0000 - val_loss: 0.1002 - val_accuracy: 0.9750\n",
      "Epoch 81/100\n",
      "24/24 [==============================] - 5s 214ms/step - loss: 1.3288e-04 - accuracy: 1.0000 - val_loss: 0.1030 - val_accuracy: 0.9750\n",
      "Epoch 82/100\n",
      "24/24 [==============================] - 5s 196ms/step - loss: 1.3938e-04 - accuracy: 1.0000 - val_loss: 0.1019 - val_accuracy: 0.9750\n",
      "Epoch 83/100\n",
      "24/24 [==============================] - 5s 197ms/step - loss: 1.6753e-04 - accuracy: 1.0000 - val_loss: 0.1006 - val_accuracy: 0.9750\n",
      "Epoch 84/100\n",
      "24/24 [==============================] - 5s 195ms/step - loss: 1.9092e-04 - accuracy: 1.0000 - val_loss: 0.1039 - val_accuracy: 0.9750\n",
      "Epoch 85/100\n",
      "24/24 [==============================] - 5s 195ms/step - loss: 1.6124e-04 - accuracy: 1.0000 - val_loss: 0.1032 - val_accuracy: 0.9750\n",
      "Epoch 86/100\n",
      "24/24 [==============================] - 5s 192ms/step - loss: 1.2689e-04 - accuracy: 1.0000 - val_loss: 0.1027 - val_accuracy: 0.9750\n",
      "Epoch 87/100\n",
      "24/24 [==============================] - 5s 196ms/step - loss: 1.1792e-04 - accuracy: 1.0000 - val_loss: 0.1021 - val_accuracy: 0.9750\n",
      "Epoch 88/100\n",
      "24/24 [==============================] - 5s 194ms/step - loss: 8.2176e-05 - accuracy: 1.0000 - val_loss: 0.1019 - val_accuracy: 0.9750\n",
      "Epoch 89/100\n",
      "24/24 [==============================] - 5s 199ms/step - loss: 1.1299e-04 - accuracy: 1.0000 - val_loss: 0.1027 - val_accuracy: 0.9750\n",
      "Epoch 90/100\n",
      "24/24 [==============================] - 5s 198ms/step - loss: 1.4511e-04 - accuracy: 1.0000 - val_loss: 0.1038 - val_accuracy: 0.9750\n",
      "Epoch 91/100\n",
      "24/24 [==============================] - 5s 203ms/step - loss: 9.6711e-05 - accuracy: 1.0000 - val_loss: 0.1080 - val_accuracy: 0.9750\n",
      "Epoch 92/100\n",
      "24/24 [==============================] - 5s 208ms/step - loss: 9.8103e-05 - accuracy: 1.0000 - val_loss: 0.1070 - val_accuracy: 0.9750\n",
      "Epoch 93/100\n",
      "24/24 [==============================] - 5s 209ms/step - loss: 8.9433e-05 - accuracy: 1.0000 - val_loss: 0.1085 - val_accuracy: 0.9750\n",
      "Epoch 94/100\n",
      "24/24 [==============================] - 5s 200ms/step - loss: 1.6121e-04 - accuracy: 1.0000 - val_loss: 0.1042 - val_accuracy: 0.9750\n",
      "Epoch 95/100\n",
      "24/24 [==============================] - 6s 231ms/step - loss: 8.9962e-05 - accuracy: 1.0000 - val_loss: 0.1048 - val_accuracy: 0.9750\n",
      "Epoch 96/100\n",
      "24/24 [==============================] - 5s 205ms/step - loss: 7.4062e-05 - accuracy: 1.0000 - val_loss: 0.1040 - val_accuracy: 0.9750\n",
      "Epoch 97/100\n",
      "24/24 [==============================] - 5s 204ms/step - loss: 5.4819e-05 - accuracy: 1.0000 - val_loss: 0.1043 - val_accuracy: 0.9750\n",
      "Epoch 98/100\n",
      "24/24 [==============================] - 5s 206ms/step - loss: 5.5964e-05 - accuracy: 1.0000 - val_loss: 0.1051 - val_accuracy: 0.9750\n",
      "Epoch 99/100\n",
      "24/24 [==============================] - 5s 206ms/step - loss: 5.5302e-05 - accuracy: 1.0000 - val_loss: 0.1052 - val_accuracy: 0.9750\n",
      "Epoch 100/100\n",
      "24/24 [==============================] - 5s 214ms/step - loss: 1.4747e-04 - accuracy: 1.0000 - val_loss: 0.1049 - val_accuracy: 0.9750\n",
      "Training Accuracy: 0.9975\n",
      "Testing Accuracy:  0.9600\n"
     ]
    }
   ],
   "source": [
    "# Deep Neural networks CNN\n",
    "model = models.Sequential()\n",
    "model.add(layers.Embedding(input_dim=vocab_size, \n",
    "                           output_dim=embedding_dim,\n",
    "                           weights=[embedding_matrix],\n",
    "                           input_length=maxlen,\n",
    "                           trainable=True))\n",
    "model.add(layers.SpatialDropout1D(0.3))\n",
    "model.add(layers.Conv1D(128, 5, activation='relu'))\n",
    "model.add(layers.GlobalMaxPool1D())\n",
    "model.add(layers.Dense(256))\n",
    "model.add(layers.Activation('relu'))\n",
    "model.add(layers.Dropout(0.25))\n",
    "model.add(layers.Dense(10))\n",
    "model.add(layers.Activation('softmax'))\n",
    "model.summary()\n",
    " \n",
    "model.compile(loss='categorical_crossentropy',\n",
    "              optimizer='adam',\n",
    "              metrics=['accuracy'])\n",
    " \n",
    "history = model.fit(X_train_token, y_train_bi,\n",
    "                    batch_size=30,\n",
    "                    epochs=100,\n",
    "                    validation_split=0.1,\n",
    "                    verbose=1)\n",
    "\n",
    "loss, accuracy = model.evaluate(X_train_token, y_train_bi, verbose=False)\n",
    "print(\"Training Accuracy: {:.4f}\".format(accuracy))\n",
    "loss, accuracy = model.evaluate(X_test_token, y_test_bi, verbose=False)\n",
    "print(\"Testing Accuracy:  {:.4f}\".format(accuracy))"
   ]
  },
  {
   "cell_type": "code",
   "execution_count": 26,
   "metadata": {},
   "outputs": [
    {
     "data": {
      "image/png": "[encoded data removed]",
      "text/plain": [
       "<Figure size 1200x500 with 2 Axes>"
      ]
     },
     "metadata": {},
     "output_type": "display_data"
    }
   ],
   "source": [
    "plot_history(history)"
   ]
  },
  {
   "cell_type": "markdown",
   "metadata": {},
   "source": [
    "SAVE MODEL"
   ]
  },
  {
   "cell_type": "code",
   "execution_count": 58,
   "metadata": {},
   "outputs": [],
   "source": [
    "# creates a HDF5 file 'my_model.h5'\n",
    "model.save('E:/Natural Language Processing/Project/ML//dataset/NLP_model.h5')\n",
    "\n",
    "# Save Tokenizer\n",
    "with open('E:/Natural Language Processing/Project/ML//dataset/tokenizer.pickle', 'wb') as handle:\n",
    "    pickle.dump(tokenizer, handle, protocol=pickle.HIGHEST_PROTOCOL)"
   ]
  },
  {
   "cell_type": "markdown",
   "metadata": {},
   "source": [
    "OPTIONAL"
   ]
  },
  {
   "cell_type": "markdown",
   "metadata": {},
   "source": [
    "Recurrent Neural Network Bidirectional GRU"
   ]
  },
  {
   "cell_type": "markdown",
   "metadata": {},
   "source": [
    "In RNN the activation outputs are propagated in both directions. It results in looping which provides a state to neurons giving it ability to remember the learnings. This memory is what gives the power to RNN but also impose the problem of Vanishing Gradient. The problem is slow learning rate and parameter tuning due to learning with large no. of layers. To solve this LSTMs (Long short term memory) is used but it often complex and slow computationally. A newer technique GRU is used in this paper. GRU exposes complete memory and has only 2 gates instead of 3 in case of LSTM. It provides similar performance as LSTM while faster to train."
   ]
  },
  {
   "cell_type": "code",
   "execution_count": 27,
   "metadata": {},
   "outputs": [
    {
     "name": "stdout",
     "output_type": "stream",
     "text": [
      "Epoch 1/100\n",
      "8/8 [==============================] - 30s 3s/step - loss: 2.2276 - accuracy: 0.1903 - val_loss: 1.9669 - val_accuracy: 0.5000\n",
      "Epoch 2/100\n",
      "8/8 [==============================] - 20s 3s/step - loss: 1.8834 - accuracy: 0.5069 - val_loss: 1.6341 - val_accuracy: 0.6375\n",
      "Epoch 3/100\n",
      "8/8 [==============================] - 23s 3s/step - loss: 1.5173 - accuracy: 0.5847 - val_loss: 1.3026 - val_accuracy: 0.6625\n",
      "Epoch 4/100\n",
      "8/8 [==============================] - 22s 3s/step - loss: 1.1378 - accuracy: 0.6736 - val_loss: 0.9671 - val_accuracy: 0.7000\n",
      "Epoch 5/100\n",
      "8/8 [==============================] - 23s 3s/step - loss: 0.8103 - accuracy: 0.7375 - val_loss: 0.7688 - val_accuracy: 0.7250\n",
      "Epoch 6/100\n",
      "8/8 [==============================] - 24s 3s/step - loss: 0.5756 - accuracy: 0.8361 - val_loss: 0.6198 - val_accuracy: 0.7375\n",
      "Epoch 7/100\n",
      "8/8 [==============================] - 25s 3s/step - loss: 0.3821 - accuracy: 0.8722 - val_loss: 0.5430 - val_accuracy: 0.8125\n",
      "Epoch 8/100\n",
      "8/8 [==============================] - 23s 3s/step - loss: 0.2439 - accuracy: 0.9264 - val_loss: 0.4657 - val_accuracy: 0.8250\n",
      "Epoch 9/100\n",
      "8/8 [==============================] - 22s 3s/step - loss: 0.1606 - accuracy: 0.9583 - val_loss: 0.4231 - val_accuracy: 0.8250\n",
      "Epoch 10/100\n",
      "8/8 [==============================] - 23s 3s/step - loss: 0.1265 - accuracy: 0.9681 - val_loss: 0.5500 - val_accuracy: 0.8000\n",
      "Epoch 11/100\n",
      "8/8 [==============================] - 24s 3s/step - loss: 0.0735 - accuracy: 0.9819 - val_loss: 0.3241 - val_accuracy: 0.8750\n",
      "Epoch 12/100\n",
      "8/8 [==============================] - 25s 3s/step - loss: 0.0444 - accuracy: 0.9958 - val_loss: 0.4102 - val_accuracy: 0.8625\n",
      "Epoch 13/100\n",
      "8/8 [==============================] - 24s 3s/step - loss: 0.0275 - accuracy: 0.9958 - val_loss: 0.3973 - val_accuracy: 0.8375\n",
      "Epoch 14/100\n",
      "8/8 [==============================] - 24s 3s/step - loss: 0.0224 - accuracy: 0.9972 - val_loss: 0.3982 - val_accuracy: 0.8625\n",
      "Epoch 15/100\n",
      "8/8 [==============================] - 24s 3s/step - loss: 0.0154 - accuracy: 0.9986 - val_loss: 0.2916 - val_accuracy: 0.8875\n",
      "Epoch 16/100\n",
      "8/8 [==============================] - 24s 3s/step - loss: 0.0158 - accuracy: 0.9972 - val_loss: 0.2401 - val_accuracy: 0.9250\n",
      "Epoch 17/100\n",
      "8/8 [==============================] - 24s 3s/step - loss: 0.0078 - accuracy: 1.0000 - val_loss: 0.2683 - val_accuracy: 0.9125\n",
      "Epoch 18/100\n",
      "8/8 [==============================] - 25s 3s/step - loss: 0.0079 - accuracy: 1.0000 - val_loss: 0.2788 - val_accuracy: 0.8875\n",
      "Epoch 19/100\n",
      "8/8 [==============================] - 26s 3s/step - loss: 0.0075 - accuracy: 1.0000 - val_loss: 0.2823 - val_accuracy: 0.8750\n",
      "Epoch 20/100\n",
      "8/8 [==============================] - 31s 4s/step - loss: 0.0052 - accuracy: 1.0000 - val_loss: 0.3192 - val_accuracy: 0.8625\n",
      "Epoch 21/100\n",
      "8/8 [==============================] - 31s 4s/step - loss: 0.0047 - accuracy: 1.0000 - val_loss: 0.3361 - val_accuracy: 0.8750\n",
      "Epoch 22/100\n",
      "8/8 [==============================] - 25s 3s/step - loss: 0.0035 - accuracy: 1.0000 - val_loss: 0.3696 - val_accuracy: 0.8625\n",
      "Epoch 23/100\n",
      "8/8 [==============================] - 26s 3s/step - loss: 0.0077 - accuracy: 0.9986 - val_loss: 0.4157 - val_accuracy: 0.8500\n",
      "Epoch 24/100\n",
      "8/8 [==============================] - 25s 3s/step - loss: 0.0059 - accuracy: 1.0000 - val_loss: 0.3348 - val_accuracy: 0.8375\n",
      "Epoch 25/100\n",
      "8/8 [==============================] - 25s 3s/step - loss: 0.0054 - accuracy: 1.0000 - val_loss: 0.3218 - val_accuracy: 0.8125\n",
      "Epoch 26/100\n",
      "8/8 [==============================] - 25s 3s/step - loss: 0.0045 - accuracy: 1.0000 - val_loss: 0.2773 - val_accuracy: 0.8625\n",
      "Epoch 27/100\n",
      "8/8 [==============================] - 29s 4s/step - loss: 0.0045 - accuracy: 1.0000 - val_loss: 0.3454 - val_accuracy: 0.8875\n",
      "Epoch 28/100\n",
      "8/8 [==============================] - 30s 4s/step - loss: 0.0056 - accuracy: 1.0000 - val_loss: 0.2714 - val_accuracy: 0.8875\n",
      "Epoch 29/100\n",
      "8/8 [==============================] - 26s 3s/step - loss: 0.0037 - accuracy: 1.0000 - val_loss: 0.3196 - val_accuracy: 0.8750\n",
      "Epoch 30/100\n",
      "8/8 [==============================] - 27s 3s/step - loss: 0.0031 - accuracy: 1.0000 - val_loss: 0.3543 - val_accuracy: 0.8750\n",
      "Epoch 31/100\n",
      "8/8 [==============================] - 27s 3s/step - loss: 0.0026 - accuracy: 1.0000 - val_loss: 0.2758 - val_accuracy: 0.8875\n",
      "Epoch 32/100\n",
      "8/8 [==============================] - 27s 3s/step - loss: 0.0028 - accuracy: 1.0000 - val_loss: 0.2602 - val_accuracy: 0.9000\n",
      "Epoch 33/100\n",
      "8/8 [==============================] - 28s 3s/step - loss: 0.0031 - accuracy: 0.9986 - val_loss: 0.2667 - val_accuracy: 0.9000\n",
      "Epoch 34/100\n",
      "8/8 [==============================] - 28s 3s/step - loss: 0.0035 - accuracy: 0.9986 - val_loss: 0.2325 - val_accuracy: 0.9250\n",
      "Epoch 35/100\n",
      "8/8 [==============================] - 26s 3s/step - loss: 0.0338 - accuracy: 0.9903 - val_loss: 0.3037 - val_accuracy: 0.8750\n",
      "Epoch 36/100\n",
      "8/8 [==============================] - 25s 3s/step - loss: 0.0031 - accuracy: 1.0000 - val_loss: 0.4895 - val_accuracy: 0.8500\n",
      "Epoch 37/100\n",
      "8/8 [==============================] - 26s 3s/step - loss: 0.0077 - accuracy: 1.0000 - val_loss: 0.4409 - val_accuracy: 0.8375\n",
      "Epoch 38/100\n",
      "8/8 [==============================] - 27s 3s/step - loss: 0.0054 - accuracy: 0.9986 - val_loss: 0.3027 - val_accuracy: 0.9125\n",
      "Epoch 39/100\n",
      "8/8 [==============================] - 25s 3s/step - loss: 0.0024 - accuracy: 1.0000 - val_loss: 0.2837 - val_accuracy: 0.9125\n",
      "Epoch 40/100\n",
      "8/8 [==============================] - 27s 3s/step - loss: 0.0032 - accuracy: 1.0000 - val_loss: 0.2334 - val_accuracy: 0.9125\n",
      "Epoch 41/100\n",
      "8/8 [==============================] - 28s 4s/step - loss: 0.0019 - accuracy: 1.0000 - val_loss: 0.2329 - val_accuracy: 0.9500\n",
      "Epoch 42/100\n",
      "8/8 [==============================] - 27s 3s/step - loss: 0.0019 - accuracy: 1.0000 - val_loss: 0.2544 - val_accuracy: 0.9125\n",
      "Epoch 43/100\n",
      "8/8 [==============================] - 29s 4s/step - loss: 0.0012 - accuracy: 1.0000 - val_loss: 0.2419 - val_accuracy: 0.9125\n",
      "Epoch 44/100\n",
      "8/8 [==============================] - 34s 4s/step - loss: 0.0017 - accuracy: 1.0000 - val_loss: 0.2093 - val_accuracy: 0.9250\n",
      "Epoch 45/100\n",
      "8/8 [==============================] - 31s 4s/step - loss: 7.1002e-04 - accuracy: 1.0000 - val_loss: 0.2133 - val_accuracy: 0.9375\n",
      "Epoch 46/100\n",
      "8/8 [==============================] - 27s 3s/step - loss: 0.0017 - accuracy: 1.0000 - val_loss: 0.2085 - val_accuracy: 0.9250\n",
      "Epoch 47/100\n",
      "8/8 [==============================] - 28s 3s/step - loss: 9.7687e-04 - accuracy: 1.0000 - val_loss: 0.2097 - val_accuracy: 0.9625\n",
      "Epoch 48/100\n",
      "8/8 [==============================] - 29s 4s/step - loss: 7.2316e-04 - accuracy: 1.0000 - val_loss: 0.2211 - val_accuracy: 0.9375\n",
      "Epoch 49/100\n",
      "8/8 [==============================] - 28s 3s/step - loss: 9.5570e-04 - accuracy: 1.0000 - val_loss: 0.2284 - val_accuracy: 0.9375\n",
      "Epoch 50/100\n",
      "8/8 [==============================] - 30s 4s/step - loss: 7.6095e-04 - accuracy: 1.0000 - val_loss: 0.2372 - val_accuracy: 0.9250\n",
      "Epoch 51/100\n",
      "8/8 [==============================] - 25s 3s/step - loss: 6.5053e-04 - accuracy: 1.0000 - val_loss: 0.2400 - val_accuracy: 0.9250\n",
      "Epoch 52/100\n",
      "8/8 [==============================] - 26s 3s/step - loss: 7.1722e-04 - accuracy: 1.0000 - val_loss: 0.2349 - val_accuracy: 0.9375\n",
      "Epoch 53/100\n",
      "8/8 [==============================] - 25s 3s/step - loss: 4.8184e-04 - accuracy: 1.0000 - val_loss: 0.2357 - val_accuracy: 0.9375\n",
      "Epoch 54/100\n",
      "8/8 [==============================] - 26s 3s/step - loss: 6.9673e-04 - accuracy: 1.0000 - val_loss: 0.2398 - val_accuracy: 0.9375\n",
      "Epoch 55/100\n",
      "8/8 [==============================] - 31s 4s/step - loss: 7.2879e-04 - accuracy: 1.0000 - val_loss: 0.2380 - val_accuracy: 0.9250\n",
      "Epoch 56/100\n",
      "8/8 [==============================] - 25s 3s/step - loss: 5.1167e-04 - accuracy: 1.0000 - val_loss: 0.2248 - val_accuracy: 0.9125\n",
      "Epoch 57/100\n",
      "8/8 [==============================] - 24s 3s/step - loss: 7.3150e-04 - accuracy: 1.0000 - val_loss: 0.2056 - val_accuracy: 0.9375\n",
      "Epoch 58/100\n",
      "8/8 [==============================] - 24s 3s/step - loss: 6.2704e-04 - accuracy: 1.0000 - val_loss: 0.1962 - val_accuracy: 0.9375\n",
      "Epoch 59/100\n",
      "8/8 [==============================] - 25s 3s/step - loss: 6.2692e-04 - accuracy: 1.0000 - val_loss: 0.2003 - val_accuracy: 0.9500\n",
      "Epoch 60/100\n",
      "8/8 [==============================] - 25s 3s/step - loss: 4.3512e-04 - accuracy: 1.0000 - val_loss: 0.2130 - val_accuracy: 0.9500\n",
      "Epoch 61/100\n",
      "8/8 [==============================] - 26s 3s/step - loss: 4.6691e-04 - accuracy: 1.0000 - val_loss: 0.2228 - val_accuracy: 0.9375\n",
      "Epoch 62/100\n",
      "8/8 [==============================] - 26s 3s/step - loss: 5.2859e-04 - accuracy: 1.0000 - val_loss: 0.2222 - val_accuracy: 0.9250\n",
      "Epoch 63/100\n",
      "8/8 [==============================] - 19s 2s/step - loss: 4.6073e-04 - accuracy: 1.0000 - val_loss: 0.2258 - val_accuracy: 0.9375\n",
      "Epoch 64/100\n",
      "8/8 [==============================] - 9s 1s/step - loss: 3.9633e-04 - accuracy: 1.0000 - val_loss: 0.2256 - val_accuracy: 0.9375\n",
      "Epoch 65/100\n",
      "8/8 [==============================] - 9s 1s/step - loss: 2.9655e-04 - accuracy: 1.0000 - val_loss: 0.2309 - val_accuracy: 0.9375\n",
      "Epoch 66/100\n",
      "8/8 [==============================] - 9s 1s/step - loss: 0.0098 - accuracy: 0.9986 - val_loss: 0.5657 - val_accuracy: 0.9000\n",
      "Epoch 67/100\n",
      "8/8 [==============================] - 9s 1s/step - loss: 0.0180 - accuracy: 0.9958 - val_loss: 0.4412 - val_accuracy: 0.8250\n",
      "Epoch 68/100\n",
      "8/8 [==============================] - 9s 1s/step - loss: 0.0059 - accuracy: 0.9986 - val_loss: 0.4220 - val_accuracy: 0.8625\n",
      "Epoch 69/100\n",
      "8/8 [==============================] - 9s 1s/step - loss: 0.0024 - accuracy: 1.0000 - val_loss: 0.5077 - val_accuracy: 0.8125\n",
      "Epoch 70/100\n",
      "8/8 [==============================] - 9s 1s/step - loss: 0.0019 - accuracy: 1.0000 - val_loss: 0.5993 - val_accuracy: 0.8250\n",
      "Epoch 71/100\n",
      "8/8 [==============================] - 10s 1s/step - loss: 0.0011 - accuracy: 1.0000 - val_loss: 0.5188 - val_accuracy: 0.8500\n",
      "Epoch 72/100\n",
      "8/8 [==============================] - 9s 1s/step - loss: 0.0016 - accuracy: 1.0000 - val_loss: 0.4542 - val_accuracy: 0.8500\n",
      "Epoch 73/100\n",
      "8/8 [==============================] - 11s 1s/step - loss: 5.8992e-04 - accuracy: 1.0000 - val_loss: 0.4239 - val_accuracy: 0.8875\n",
      "Epoch 74/100\n",
      "8/8 [==============================] - 10s 1s/step - loss: 5.7792e-04 - accuracy: 1.0000 - val_loss: 0.4094 - val_accuracy: 0.9000\n",
      "Epoch 75/100\n",
      "8/8 [==============================] - 10s 1s/step - loss: 5.4164e-04 - accuracy: 1.0000 - val_loss: 0.3875 - val_accuracy: 0.9000\n",
      "Epoch 76/100\n",
      "8/8 [==============================] - 10s 1s/step - loss: 5.1288e-04 - accuracy: 1.0000 - val_loss: 0.3733 - val_accuracy: 0.9000\n",
      "Epoch 77/100\n",
      "8/8 [==============================] - 9s 1s/step - loss: 4.2022e-04 - accuracy: 1.0000 - val_loss: 0.3657 - val_accuracy: 0.9000\n",
      "Epoch 78/100\n",
      "8/8 [==============================] - 9s 1s/step - loss: 3.6508e-04 - accuracy: 1.0000 - val_loss: 0.3664 - val_accuracy: 0.9000\n",
      "Epoch 79/100\n",
      "8/8 [==============================] - 9s 1s/step - loss: 4.4253e-04 - accuracy: 1.0000 - val_loss: 0.3697 - val_accuracy: 0.9000\n",
      "Epoch 80/100\n",
      "8/8 [==============================] - 9s 1s/step - loss: 3.0683e-04 - accuracy: 1.0000 - val_loss: 0.3726 - val_accuracy: 0.9000\n",
      "Epoch 81/100\n",
      "8/8 [==============================] - 10s 1s/step - loss: 3.8917e-04 - accuracy: 1.0000 - val_loss: 0.3591 - val_accuracy: 0.9000\n",
      "Epoch 82/100\n",
      "8/8 [==============================] - 10s 1s/step - loss: 3.0336e-04 - accuracy: 1.0000 - val_loss: 0.3557 - val_accuracy: 0.8750\n",
      "Epoch 83/100\n",
      "8/8 [==============================] - 10s 1s/step - loss: 4.9100e-04 - accuracy: 1.0000 - val_loss: 0.3674 - val_accuracy: 0.8875\n",
      "Epoch 84/100\n",
      "8/8 [==============================] - 10s 1s/step - loss: 2.6533e-04 - accuracy: 1.0000 - val_loss: 0.3716 - val_accuracy: 0.9000\n",
      "Epoch 85/100\n",
      "8/8 [==============================] - 10s 1s/step - loss: 2.7794e-04 - accuracy: 1.0000 - val_loss: 0.3630 - val_accuracy: 0.8875\n",
      "Epoch 86/100\n",
      "8/8 [==============================] - 10s 1s/step - loss: 3.1903e-04 - accuracy: 1.0000 - val_loss: 0.3527 - val_accuracy: 0.9000\n",
      "Epoch 87/100\n",
      "8/8 [==============================] - 10s 1s/step - loss: 2.9751e-04 - accuracy: 1.0000 - val_loss: 0.3456 - val_accuracy: 0.9000\n",
      "Epoch 88/100\n",
      "8/8 [==============================] - 10s 1s/step - loss: 2.3398e-04 - accuracy: 1.0000 - val_loss: 0.3386 - val_accuracy: 0.9000\n",
      "Epoch 89/100\n",
      "8/8 [==============================] - 10s 1s/step - loss: 2.5733e-04 - accuracy: 1.0000 - val_loss: 0.3355 - val_accuracy: 0.9000\n",
      "Epoch 90/100\n",
      "8/8 [==============================] - 9s 1s/step - loss: 2.1705e-04 - accuracy: 1.0000 - val_loss: 0.3314 - val_accuracy: 0.9000\n",
      "Epoch 91/100\n",
      "8/8 [==============================] - 10s 1s/step - loss: 2.0245e-04 - accuracy: 1.0000 - val_loss: 0.3273 - val_accuracy: 0.9000\n",
      "Epoch 92/100\n",
      "8/8 [==============================] - 9s 1s/step - loss: 2.3376e-04 - accuracy: 1.0000 - val_loss: 0.3247 - val_accuracy: 0.9000\n",
      "Epoch 93/100\n",
      "8/8 [==============================] - 9s 1s/step - loss: 2.2958e-04 - accuracy: 1.0000 - val_loss: 0.3248 - val_accuracy: 0.9000\n",
      "Epoch 94/100\n",
      "8/8 [==============================] - 9s 1s/step - loss: 3.2287e-04 - accuracy: 1.0000 - val_loss: 0.3236 - val_accuracy: 0.9000\n",
      "Epoch 95/100\n",
      "8/8 [==============================] - 9s 1s/step - loss: 2.8568e-04 - accuracy: 1.0000 - val_loss: 0.3072 - val_accuracy: 0.9250\n",
      "Epoch 96/100\n",
      "8/8 [==============================] - 9s 1s/step - loss: 1.5240e-04 - accuracy: 1.0000 - val_loss: 0.3076 - val_accuracy: 0.9250\n",
      "Epoch 97/100\n",
      "8/8 [==============================] - 9s 1s/step - loss: 1.8604e-04 - accuracy: 1.0000 - val_loss: 0.3085 - val_accuracy: 0.9250\n",
      "Epoch 98/100\n",
      "8/8 [==============================] - 9s 1s/step - loss: 3.4360e-04 - accuracy: 1.0000 - val_loss: 0.3128 - val_accuracy: 0.9250\n",
      "Epoch 99/100\n",
      "8/8 [==============================] - 9s 1s/step - loss: 3.0072e-04 - accuracy: 1.0000 - val_loss: 0.3098 - val_accuracy: 0.9250\n",
      "Epoch 100/100\n",
      "8/8 [==============================] - 9s 1s/step - loss: 1.7883e-04 - accuracy: 1.0000 - val_loss: 0.3046 - val_accuracy: 0.9250\n",
      "Training Accuracy: 0.9925\n",
      "Testing Accuracy:  0.9350\n"
     ]
    }
   ],
   "source": [
    "# Bi directional rnn gru\n",
    "\n",
    "model = models.Sequential()\n",
    "model.add(layers.Embedding(input_dim=vocab_size, \n",
    "                           output_dim=embedding_dim,\n",
    "                           weights=[embedding_matrix],\n",
    "                           input_length=maxlen,\n",
    "                           trainable=True))\n",
    "model.add(layers.SpatialDropout1D(0.3))\n",
    "model.add(layers.Bidirectional(layers.GRU(100)))\n",
    "model.add(layers.Dense(512, input_shape=(vocab_size,)))\n",
    "model.add(layers.Activation('relu'))\n",
    "model.add(layers.Dropout(0.25))\n",
    "model.add(layers.Dense(10))\n",
    "model.add(layers.Activation('softmax'))\n",
    "# model.summary()\n",
    "model.compile(loss='categorical_crossentropy',\n",
    "              optimizer='adam',\n",
    "              metrics=['accuracy'])\n",
    "\n",
    "history = model.fit(X_train_token, y_train_bi,\n",
    "                    batch_size=batch_size,\n",
    "                    epochs=100,\n",
    "                    validation_split=0.1,\n",
    "                    verbose=1)\n",
    "\n",
    "loss, accuracy = model.evaluate(X_train_token, y_train_bi, verbose=False)\n",
    "print(\"Training Accuracy: {:.4f}\".format(accuracy))\n",
    "loss, accuracy = model.evaluate(X_test_token, y_test_bi, verbose=False)\n",
    "print(\"Testing Accuracy:  {:.4f}\".format(accuracy))"
   ]
  },
  {
   "cell_type": "code",
   "execution_count": 29,
   "metadata": {},
   "outputs": [
    {
     "data": {
      "image/png": "[encoded data removed]",
      "text/plain": [
       "<Figure size 1200x500 with 2 Axes>"
      ]
     },
     "metadata": {},
     "output_type": "display_data"
    }
   ],
   "source": [
    "plot_history(history)"
   ]
  },
  {
   "cell_type": "markdown",
   "metadata": {},
   "source": [
    "# RESULT AND TESTING"
   ]
  },
  {
   "cell_type": "markdown",
   "metadata": {},
   "source": [
    "The model that gave the best performance on the test data is was CNN with an accuracy of 99.75 % with 100 epochs. The model can be used to process any document and predict a class for it. "
   ]
  },
  {
   "cell_type": "code",
   "execution_count": 60,
   "metadata": {},
   "outputs": [],
   "source": [
    "final_model = models.load_model('E:/Natural Language Processing/Project/ML/dataset/NLP_model.h5')\n",
    " \n",
    "# load tokenizer\n",
    "tokenizer = text.Tokenizer()\n",
    "with open('E:/Natural Language Processing/Project/ML/dataset/tokenizer.pickle', 'rb') as handle:\n",
    "    tokenizer = pickle.load(handle)"
   ]
  },
  {
   "cell_type": "code",
   "execution_count": 61,
   "metadata": {},
   "outputs": [
    {
     "data": {
      "text/html": [
       "<div>\n",
       "<style scoped>\n",
       "    .dataframe tbody tr th:only-of-type {\n",
       "        vertical-align: middle;\n",
       "    }\n",
       "\n",
       "    .dataframe tbody tr th {\n",
       "        vertical-align: top;\n",
       "    }\n",
       "\n",
       "    .dataframe thead th {\n",
       "        text-align: right;\n",
       "    }\n",
       "</style>\n",
       "<table border=\"1\" class=\"dataframe\">\n",
       "  <thead>\n",
       "    <tr style=\"text-align: right;\">\n",
       "      <th></th>\n",
       "      <th>class</th>\n",
       "      <th>doc_text</th>\n",
       "    </tr>\n",
       "  </thead>\n",
       "  <tbody>\n",
       "    <tr>\n",
       "      <th>0</th>\n",
       "      <td>business</td>\n",
       "      <td>76</td>\n",
       "    </tr>\n",
       "    <tr>\n",
       "      <th>1</th>\n",
       "      <td>entertainment</td>\n",
       "      <td>83</td>\n",
       "    </tr>\n",
       "    <tr>\n",
       "      <th>2</th>\n",
       "      <td>food</td>\n",
       "      <td>80</td>\n",
       "    </tr>\n",
       "    <tr>\n",
       "      <th>3</th>\n",
       "      <td>graphics</td>\n",
       "      <td>82</td>\n",
       "    </tr>\n",
       "    <tr>\n",
       "      <th>4</th>\n",
       "      <td>historical</td>\n",
       "      <td>78</td>\n",
       "    </tr>\n",
       "    <tr>\n",
       "      <th>5</th>\n",
       "      <td>medical</td>\n",
       "      <td>78</td>\n",
       "    </tr>\n",
       "    <tr>\n",
       "      <th>6</th>\n",
       "      <td>politics</td>\n",
       "      <td>84</td>\n",
       "    </tr>\n",
       "    <tr>\n",
       "      <th>7</th>\n",
       "      <td>space</td>\n",
       "      <td>73</td>\n",
       "    </tr>\n",
       "    <tr>\n",
       "      <th>8</th>\n",
       "      <td>sport</td>\n",
       "      <td>77</td>\n",
       "    </tr>\n",
       "    <tr>\n",
       "      <th>9</th>\n",
       "      <td>technologies</td>\n",
       "      <td>89</td>\n",
       "    </tr>\n",
       "  </tbody>\n",
       "</table>\n",
       "</div>"
      ],
      "text/plain": [
       "           class  doc_text\n",
       "0       business        76\n",
       "1  entertainment        83\n",
       "2           food        80\n",
       "3       graphics        82\n",
       "4     historical        78\n",
       "5        medical        78\n",
       "6       politics        84\n",
       "7          space        73\n",
       "8          sport        77\n",
       "9   technologies        89"
      ]
     },
     "execution_count": 61,
     "metadata": {},
     "output_type": "execute_result"
    }
   ],
   "source": [
    "df_count.head(10)"
   ]
  },
  {
   "cell_type": "code",
   "execution_count": 62,
   "metadata": {},
   "outputs": [
    {
     "name": "stdout",
     "output_type": "stream",
     "text": [
      "1/1 [==============================] - 0s 120ms/step\n",
      "Predicted label: technologies\n"
     ]
    }
   ],
   "source": [
    "class_dict = {'0': 'business', '1': 'entertainment','2': 'food','3': 'graphics', '4': 'historical', '5': 'medical', '6': 'politics', '7': 'space', '8': 'sport', '9':'technologies'}\n",
    "inp = [\"QR codes at San Antonio bus stops change the game for visually impaired commuters. Bus stops across San Antonio are getting easily detectible QR codes to help visually impaired commuters better navigate the city.\"]\n",
    "inp = [perform_preprocessing(x) for x in inp]\n",
    "inp_token = tokenizer.texts_to_sequences(inp)\n",
    "inp_token = sequence.pad_sequences(inp_token, padding='post', maxlen=maxlen)\n",
    "\n",
    "out = final_model.predict(inp_token)\n",
    "predicted_label = numpy.argmax(out) \n",
    "print(\"Predicted label: \" + class_dict.get(str(predicted_label)))"
   ]
  },
  {
   "cell_type": "code",
   "execution_count": 63,
   "metadata": {},
   "outputs": [
    {
     "name": "stdout",
     "output_type": "stream",
     "text": [
      "1/1 [==============================] - 0s 29ms/step\n",
      "Predicted label: food\n"
     ]
    }
   ],
   "source": [
    "class_dict = {'0': 'business', '1': 'entertainment','2': 'food','3': 'graphics', '4': 'historical', '5': 'medical', '6': 'politics', '7': 'space', '8': 'sport', '9':'technologies'}\n",
    "inp = [\"A new California restaurant claims to be the first fully autonomous restaurant, with its burgers and fries made by robots. As fast food chains increasingly try to find ways for machines to replace some human workers, NBC News’ Elwyn Lopez gets an inside look.\"]\n",
    "inp = [perform_preprocessing(x) for x in inp]\n",
    "inp_token = tokenizer.texts_to_sequences(inp)\n",
    "inp_token = sequence.pad_sequences(inp_token, padding='post', maxlen=maxlen)\n",
    "\n",
    "out = final_model.predict(inp_token)\n",
    "predicted_label = numpy.argmax(out) \n",
    "print(\"Predicted label: \" + class_dict.get(str(predicted_label)))"
   ]
  },
  {
   "cell_type": "code",
   "execution_count": null,
   "metadata": {},
   "outputs": [],
   "source": [
    "class_dict = {'0': 'business', '1': 'entertainment','2': 'food','3': 'graphics', '4': 'historical', '5': 'medical', '6': 'politics', '7': 'space', '8': 'sport', '9':'technologies'}\n",
    "inp = [\"7% is not an adequate growth rate… India ought to be growing more rapidly because of the demographic dividend: Jayanth R Varma\"]\n",
    "inp = [perform_preprocessing(x) for x in inp]\n",
    "inp_token = tokenizer.texts_to_sequences(inp)\n",
    "inp_token = sequence.pad_sequences(inp_token, padding='post', maxlen=maxlen)\n",
    "\n",
    "out = final_model.predict(inp_token)\n",
    "predicted_label = numpy.argmax(out) \n",
    "print(\"Predicted label: \" + class_dict.get(str(predicted_label)))"
   ]
  }
 ],
 "metadata": {
  "kernelspec": {
   "display_name": "Python 3",
   "language": "python",
   "name": "python3"
  },
  "language_info": {
   "codemirror_mode": {
    "name": "ipython",
    "version": 3
   },
   "file_extension": ".py",
   "mimetype": "text/x-python",
   "name": "python",
   "nbconvert_exporter": "python",
   "pygments_lexer": "ipython3",
   "version": "3.11.5"
  }
 },
 "nbformat": 4,
 "nbformat_minor": 2
}
